{
 "cells": [
  {
   "cell_type": "code",
   "execution_count": 15,
   "id": "79983a49",
   "metadata": {},
   "outputs": [],
   "source": [
    "import pymongo\n",
    "from pymongo import MongoClient\n",
    "import os\n",
    "import pandas as pd"
   ]
  },
  {
   "cell_type": "code",
   "execution_count": 47,
   "id": "4e1bc773",
   "metadata": {},
   "outputs": [],
   "source": [
    "cluster=MongoClient('mongodb://localhost:27017')\n",
    "#create database\n",
    "db=cluster['etl_project']  \n",
    "#creating collections\n",
    "election=db['election'] \n",
    "census=db['census'] \n",
    "vaccine=db['vaccine'] \n",
    "combined=db['combined']"
   ]
  },
  {
   "cell_type": "code",
   "execution_count": 48,
   "id": "516b4d74",
   "metadata": {},
   "outputs": [
    {
     "name": "stdout",
     "output_type": "stream",
     "text": [
      "The database exists.\n"
     ]
    }
   ],
   "source": [
    "#Check if \"mydatabase\" exists:\n",
    "dblist = cluster.list_database_names()\n",
    "if 'etl_project' in dblist:\n",
    "    print(\"The database exists.\")"
   ]
  },
  {
   "cell_type": "code",
   "execution_count": 49,
   "id": "f485903a",
   "metadata": {},
   "outputs": [],
   "source": [
    "# path of cleaned csv files\n",
    "path_election=os.path.join('..','data', 'cleaned_data', 'election_data.csv')\n",
    "path_vaccine=os.path.join('..','data', 'cleaned_data', 'vaccine_data.csv')\n",
    "path_census=os.path.join('..','data', 'cleaned_data', 'census_data.csv')\n",
    "path_comb=os.path.join('..','data', 'cleaned_data', 'combined_data.csv')"
   ]
  },
  {
   "cell_type": "code",
   "execution_count": 50,
   "id": "497db2cd",
   "metadata": {},
   "outputs": [],
   "source": [
    "#creating a function to insert csv files in MongoDB collections\n",
    "def csv_to_json(filename, header=0):\n",
    "    data = pd.read_csv(filename, header=header)\n",
    "    return data.to_dict('records')#records is list like\n",
    "\n",
    "#print(csv_to_json(path_election))\n"
   ]
  },
  {
   "cell_type": "code",
   "execution_count": 52,
   "id": "6ccf2d57",
   "metadata": {},
   "outputs": [
    {
     "data": {
      "text/plain": [
       "<pymongo.results.InsertManyResult at 0x7faa7c440d80>"
      ]
     },
     "execution_count": 52,
     "metadata": {},
     "output_type": "execute_result"
    }
   ],
   "source": [
    "#Insert a record in collections:\n",
    "election.insert_many(csv_to_json(path_election))\n",
    "census.insert_many(csv_to_json(path_census))\n",
    "vaccine.insert_many(csv_to_json(path_vaccine))\n",
    "combined.insert_many(csv_to_json(path_comb))"
   ]
  },
  {
   "cell_type": "code",
   "execution_count": 53,
   "id": "37cc3ba8",
   "metadata": {},
   "outputs": [
    {
     "data": {
      "text/plain": [
       "{'_id': ObjectId('617e1587ab2967b695b8655a'),\n",
       " 'County': 'Abbeville County',\n",
       " 'State': 'SC',\n",
       " 'Republic': 0.661,\n",
       " 'Democrate': 0.33,\n",
       " 'Win': 'R'}"
      ]
     },
     "execution_count": 53,
     "metadata": {},
     "output_type": "execute_result"
    }
   ],
   "source": [
    "#To select data from a collections in MongoDB, \n",
    "election.find_one()"
   ]
  },
  {
   "cell_type": "code",
   "execution_count": 54,
   "id": "769991b2",
   "metadata": {},
   "outputs": [
    {
     "name": "stdout",
     "output_type": "stream",
     "text": [
      "{'_id': ObjectId('617e1587ab2967b695b8655a'), 'County': 'Abbeville County', 'Win': 'R'}\n",
      "{'_id': ObjectId('617e1587ab2967b695b8655b'), 'County': 'Abbot County', 'Win': 'R'}\n",
      "{'_id': ObjectId('617e1587ab2967b695b8655c'), 'County': 'Abington County', 'Win': 'D'}\n",
      "{'_id': ObjectId('617e1587ab2967b695b8655d'), 'County': 'Acadia County', 'Win': 'R'}\n",
      "{'_id': ObjectId('617e1587ab2967b695b8655e'), 'County': 'Accomack County', 'Win': 'R'}\n",
      "{'_id': ObjectId('617e1587ab2967b695b8655f'), 'County': 'Acton County', 'Win': 'R'}\n",
      "{'_id': ObjectId('617e1587ab2967b695b86560'), 'County': 'Acton County', 'Win': 'D'}\n",
      "{'_id': ObjectId('617e1587ab2967b695b86561'), 'County': 'Acushnet County', 'Win': 'R'}\n",
      "{'_id': ObjectId('617e1587ab2967b695b86562'), 'County': 'Acworth County', 'Win': 'D'}\n",
      "{'_id': ObjectId('617e1587ab2967b695b86563'), 'County': 'Ada County', 'Win': 'R'}\n"
     ]
    }
   ],
   "source": [
    "#selecting specific columns of collection election\n",
    "for x in election.find({}, {\"County\":1,\"Win\":1}).limit(10):\n",
    "    print(x)"
   ]
  },
  {
   "cell_type": "code",
   "execution_count": 55,
   "id": "2138452c",
   "metadata": {},
   "outputs": [
    {
     "name": "stdout",
     "output_type": "stream",
     "text": [
      "{'_id': ObjectId('617e1587ab2967b695b88378'), 'County': 'Marengo County', 'Fully_Vaccinated': 9272}\n",
      "{'_id': ObjectId('617e1587ab2967b695b88379'), 'County': 'Taylor County', 'Fully_Vaccinated': 12516}\n",
      "{'_id': ObjectId('617e1587ab2967b695b8837a'), 'County': 'Jefferson County', 'Fully_Vaccinated': 25225}\n",
      "{'_id': ObjectId('617e1587ab2967b695b8837b'), 'County': 'Musselshell County', 'Fully_Vaccinated': 1443}\n",
      "{'_id': ObjectId('617e1587ab2967b695b8837c'), 'County': 'Powder River County', 'Fully_Vaccinated': 330}\n",
      "{'_id': ObjectId('617e1587ab2967b695b8837d'), 'County': 'Henry County', 'Fully_Vaccinated': 22954}\n",
      "{'_id': ObjectId('617e1587ab2967b695b8837e'), 'County': 'Catawba County', 'Fully_Vaccinated': 78378}\n",
      "{'_id': ObjectId('617e1587ab2967b695b8837f'), 'County': 'Ohio County', 'Fully_Vaccinated': 5232}\n",
      "{'_id': ObjectId('617e1587ab2967b695b88380'), 'County': 'Adams County', 'Fully_Vaccinated': 10165}\n",
      "{'_id': ObjectId('617e1587ab2967b695b88381'), 'County': 'McDowell County', 'Fully_Vaccinated': 21385}\n"
     ]
    }
   ],
   "source": [
    "#selecting specific columns of collection vaccine \n",
    "for x in vaccine.find({}, {\"County\":1,'Fully_Vaccinated':1}).limit(10):\n",
    "    print(x)"
   ]
  },
  {
   "cell_type": "code",
   "execution_count": 58,
   "id": "82085479",
   "metadata": {},
   "outputs": [
    {
     "name": "stdout",
     "output_type": "stream",
     "text": [
      "{'_id': ObjectId('617e1faaab2967b695b8e636'), 'Date': '2021-10-28', 'County': 'Adams County', 'State': 'WA', 'Series_Complete_Pop_Pct': 50.9, 'Fully_Vaccinated': 10165, 'Fully_Vaccinated_12+': 67.4, 'Fully_Vaccinated_18+': 73.9, 'Fully_Vaccinated_65+': 86.9, 'Completeness_pct': 96.1, 'Administered_Dose1_Recip': 11254.0, 'Partially_Vaccinated': 56.3, 'Partially_Vaccinated_12+': 74.7, 'Partially_Vaccinated_18+': 81.1, 'Partially_Vaccinated_65+': 91.9, 'Population': 4273.6, 'Median Age': 43.02, 'Household Income': 52115.2, 'Poverty Rate': 16.335252711792215, 'Unemployment Rate': 2.2219280276264235, 'High School Rate': 18.610209734989585, 'College Rate': 9.975670867153855, 'Uneducated Rate': 0.5721368750163327, 'White Population Rate': 87.19518942195047, 'Black Population Rate': 0.3940728709080766, 'Hispanic Population Rate': 17.680976095659087, 'Asian Population Rate': 0.5075620273307402, 'Republic': 0.675, 'Democrate': 0.306, 'Win': 'R'}\n",
      "{'_id': ObjectId('617e1faaab2967b695b8e696'), 'Date': '2021-10-28', 'County': 'Arapahoe County', 'State': 'CO', 'Series_Complete_Pop_Pct': 59.4, 'Fully_Vaccinated': 389928, 'Fully_Vaccinated_12+': 69.8, 'Fully_Vaccinated_18+': 70.7, 'Fully_Vaccinated_65+': 83.6, 'Completeness_pct': 97.4, 'Administered_Dose1_Recip': 416063.0, 'Partially_Vaccinated': 63.4, 'Partially_Vaccinated_12+': 74.4, 'Partially_Vaccinated_18+': 75.5, 'Partially_Vaccinated_65+': 88.8, 'Population': 33569.4, 'Median Age': 37.075, 'Household Income': 78980.65, 'Poverty Rate': 8.67781663716983, 'Unemployment Rate': 2.3066165253882147, 'High School Rate': 13.778950402717124, 'College Rate': 16.768186552069704, 'Uneducated Rate': 0.7238954896592712, 'White Population Rate': 74.21319762303924, 'Black Population Rate': 9.169297253720153, 'Hispanic Population Rate': 19.566368301395592, 'Asian Population Rate': 4.908590452289049, 'Republic': 0.364, 'Democrate': 0.61, 'Win': 'D'}\n"
     ]
    }
   ],
   "source": [
    "#to find county that start with letter a in combined collection\n",
    "myquery = { \"County\": { \"$regex\": \"^A\" } }\n",
    "\n",
    "comb = combined.find(myquery).limit(2)\n",
    "\n",
    "for x in comb:\n",
    "    print(x)"
   ]
  },
  {
   "cell_type": "code",
   "execution_count": null,
   "id": "bbb9bce4",
   "metadata": {},
   "outputs": [],
   "source": []
  }
 ],
 "metadata": {
  "kernelspec": {
   "display_name": "Python 3 (ipykernel)",
   "language": "python",
   "name": "python3"
  },
  "language_info": {
   "codemirror_mode": {
    "name": "ipython",
    "version": 3
   },
   "file_extension": ".py",
   "mimetype": "text/x-python",
   "name": "python",
   "nbconvert_exporter": "python",
   "pygments_lexer": "ipython3",
   "version": "3.8.10"
  }
 },
 "nbformat": 4,
 "nbformat_minor": 5
}
