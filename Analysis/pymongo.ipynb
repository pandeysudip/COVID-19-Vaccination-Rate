{
 "cells": [
  {
   "cell_type": "code",
   "execution_count": 59,
   "id": "60b0cc93",
   "metadata": {},
   "outputs": [],
   "source": [
    "import pymongo\n",
    "from pymongo import MongoClient\n",
    "import os\n",
    "import pandas as pd"
   ]
  },
  {
   "cell_type": "code",
   "execution_count": 61,
   "id": "113e5a63",
   "metadata": {},
   "outputs": [],
   "source": [
    "cluster=MongoClient('mongodb://localhost:27017')\n",
    "#create database\n",
    "db=cluster['etl-project']  \n",
    "#creating collections\n",
    "election=db['election'] \n",
    "census=db['census'] \n",
    "vaccine=db['vaccine'] \n",
    "combined=db['combined']"
   ]
  },
  {
   "cell_type": "code",
   "execution_count": 82,
   "id": "ad1d70e8",
   "metadata": {},
   "outputs": [
    {
     "data": {
      "text/plain": [
       "['ClassDB',\n",
       " 'MissionMars',\n",
       " 'admin',\n",
       " 'commerce_db',\n",
       " 'config',\n",
       " 'etl-project',\n",
       " 'etl_project',\n",
       " 'fruits_db',\n",
       " 'local',\n",
       " 'store_inventory']"
      ]
     },
     "execution_count": 82,
     "metadata": {},
     "output_type": "execute_result"
    }
   ],
   "source": [
    "#to find all the databases\n",
    "cluster.list_database_names()"
   ]
  },
  {
   "cell_type": "code",
   "execution_count": 83,
   "id": "0f9228bf",
   "metadata": {},
   "outputs": [
    {
     "data": {
      "text/plain": [
       "['election', 'census', 'combined', 'vaccine']"
      ]
     },
     "execution_count": 83,
     "metadata": {},
     "output_type": "execute_result"
    }
   ],
   "source": [
    "#to find all collections for particular database\n",
    "db.list_collection_names()"
   ]
  },
  {
   "cell_type": "code",
   "execution_count": 64,
   "id": "0fe6fde4",
   "metadata": {},
   "outputs": [],
   "source": [
    "# path of cleaned csv files\n",
    "path_election=os.path.join('..','data', 'cleaned_data', 'election_data.csv')\n",
    "path_vaccine=os.path.join('..','data', 'cleaned_data', 'vaccine_data.csv')\n",
    "path_census=os.path.join('..','data', 'cleaned_data', 'census_data.csv')\n",
    "path_comb=os.path.join('..','data', 'cleaned_data', 'combined_data.csv')"
   ]
  },
  {
   "cell_type": "code",
   "execution_count": 65,
   "id": "f82f5aed",
   "metadata": {},
   "outputs": [],
   "source": [
    "#creating a function to insert csv files in MongoDB collections\n",
    "def csv_to_json(filename, header=0):\n",
    "    data = pd.read_csv(filename, header=header)\n",
    "    return data.to_dict('records')#records is list like\n",
    "\n",
    "#print(csv_to_json(path_election))\n"
   ]
  },
  {
   "cell_type": "code",
   "execution_count": 66,
   "id": "206128cf",
   "metadata": {},
   "outputs": [
    {
     "data": {
      "text/plain": [
       "<pymongo.results.InsertManyResult at 0x7faa7fa3f580>"
      ]
     },
     "execution_count": 66,
     "metadata": {},
     "output_type": "execute_result"
    }
   ],
   "source": [
    "#Insert a record in collections:\n",
    "election.insert_many(csv_to_json(path_election))\n",
    "census.insert_many(csv_to_json(path_census))\n",
    "vaccine.insert_many(csv_to_json(path_vaccine))\n",
    "combined.insert_many(csv_to_json(path_comb))"
   ]
  },
  {
   "cell_type": "markdown",
   "id": "cee5855a",
   "metadata": {},
   "source": [
    "## Election-collection"
   ]
  },
  {
   "cell_type": "code",
   "execution_count": 96,
   "id": "d9cbe034",
   "metadata": {},
   "outputs": [
    {
     "data": {
      "text/plain": [
       "{'_id': ObjectId('6180100eab2967b695b8f303'),\n",
       " 'County': 'Abbeville County',\n",
       " 'State': 'SC',\n",
       " 'Republic': 0.661,\n",
       " 'Democrate': 0.33,\n",
       " 'Win': 'R'}"
      ]
     },
     "execution_count": 96,
     "metadata": {},
     "output_type": "execute_result"
    }
   ],
   "source": [
    "#To select data from a collections in MongoDB, \n",
    "election.find_one()"
   ]
  },
  {
   "cell_type": "code",
   "execution_count": 87,
   "id": "13138b25",
   "metadata": {},
   "outputs": [
    {
     "name": "stdout",
     "output_type": "stream",
     "text": [
      "{'_id': ObjectId('6180100eab2967b695b8f305'), 'County': 'Abington County', 'State': 'MA', 'Republic': 0.439, 'Democrate': 0.537, 'Win': 'D'}\n",
      "{'_id': ObjectId('6180100eab2967b695b8f309'), 'County': 'Acton County', 'State': 'MA', 'Republic': 0.177, 'Democrate': 0.798, 'Win': 'D'}\n",
      "{'_id': ObjectId('6180100eab2967b695b8f30b'), 'County': 'Acworth County', 'State': 'NH', 'Republic': 0.473, 'Democrate': 0.515, 'Win': 'D'}\n",
      "{'_id': ObjectId('6180100eab2967b695b8f311'), 'County': 'Adams County', 'State': 'MS', 'Republic': 0.426, 'Democrate': 0.564, 'Win': 'D'}\n",
      "{'_id': ObjectId('6180100eab2967b695b8f312'), 'County': 'Adams County', 'State': 'MA', 'Republic': 0.322, 'Democrate': 0.652, 'Win': 'D'}\n",
      "{'_id': ObjectId('6180100eab2967b695b8f31b'), 'County': 'Adams County', 'State': 'CO', 'Republic': 0.404, 'Democrate': 0.567, 'Win': 'D'}\n",
      "{'_id': ObjectId('6180100eab2967b695b8f31f'), 'County': 'Addison County', 'State': 'VT', 'Republic': 0.436, 'Democrate': 0.511, 'Win': 'D'}\n",
      "{'_id': ObjectId('6180100eab2967b695b8f323'), 'County': 'Alachua County', 'State': 'FL', 'Republic': 0.356, 'Democrate': 0.627, 'Win': 'D'}\n",
      "{'_id': ObjectId('6180100eab2967b695b8f325'), 'County': 'Alameda County', 'State': 'CA', 'Republic': 0.176, 'Democrate': 0.804, 'Win': 'D'}\n",
      "{'_id': ObjectId('6180100eab2967b695b8f327'), 'County': 'Albany County', 'State': 'VT', 'Republic': 0.435, 'Democrate': 0.53, 'Win': 'D'}\n"
     ]
    }
   ],
   "source": [
    "# to select all where democrat won(limiting to 10 only)\n",
    "for x in election .find({'Win':\"D\"}).limit(10):\n",
    "    print(x)"
   ]
  },
  {
   "cell_type": "code",
   "execution_count": 89,
   "id": "7b201f59",
   "metadata": {},
   "outputs": [
    {
     "name": "stdout",
     "output_type": "stream",
     "text": [
      "{'County': 'Abington County'}\n",
      "{'County': 'Acton County'}\n",
      "{'County': 'Acworth County'}\n",
      "{'County': 'Adams County'}\n",
      "{'County': 'Adams County'}\n",
      "{'County': 'Adams County'}\n",
      "{'County': 'Addison County'}\n",
      "{'County': 'Alachua County'}\n",
      "{'County': 'Alameda County'}\n",
      "{'County': 'Albany County'}\n"
     ]
    }
   ],
   "source": [
    "# to select only county where democrat won(limiting to 10 only)\n",
    "#1 will show that columns\n",
    "for x in election .find({'Win':\"D\"},{\"_id\":0,\"County\":1}).limit(10):\n",
    "    print(x)"
   ]
  },
  {
   "cell_type": "code",
   "execution_count": 103,
   "id": "98de1304",
   "metadata": {},
   "outputs": [
    {
     "name": "stdout",
     "output_type": "stream",
     "text": [
      "{'_id': ObjectId('6180100eab2967b695b8f303'), 'County': 'Abbeville County', 'Win': 'R'}\n",
      "{'_id': ObjectId('6180100eab2967b695b8f304'), 'County': 'Abbot County', 'Win': 'R'}\n",
      "{'_id': ObjectId('6180100eab2967b695b8f305'), 'County': 'Abington County', 'Win': 'D'}\n",
      "{'_id': ObjectId('6180100eab2967b695b8f306'), 'County': 'Acadia County', 'Win': 'R'}\n",
      "{'_id': ObjectId('6180100eab2967b695b8f307'), 'County': 'Accomack County', 'Win': 'R'}\n",
      "{'_id': ObjectId('6180100eab2967b695b8f308'), 'County': 'Acton County', 'Win': 'R'}\n",
      "{'_id': ObjectId('6180100eab2967b695b8f309'), 'County': 'Acton County', 'Win': 'D'}\n",
      "{'_id': ObjectId('6180100eab2967b695b8f30a'), 'County': 'Acushnet County', 'Win': 'R'}\n",
      "{'_id': ObjectId('6180100eab2967b695b8f30b'), 'County': 'Acworth County', 'Win': 'D'}\n",
      "{'_id': ObjectId('6180100eab2967b695b8f30c'), 'County': 'Ada County', 'Win': 'R'}\n"
     ]
    }
   ],
   "source": [
    "#selecting specific columns of collection election(1- will show columns)\n",
    "for x in election.find({}, {\"County\":1,\"Win\":1}).limit(10):\n",
    "    print(x)"
   ]
  },
  {
   "cell_type": "code",
   "execution_count": 102,
   "id": "c82b4b00",
   "metadata": {},
   "outputs": [
    {
     "data": {
      "text/plain": [
       "<pymongo.results.UpdateResult at 0x7faa7c487240>"
      ]
     },
     "execution_count": 102,
     "metadata": {},
     "output_type": "execute_result"
    }
   ],
   "source": [
    "#to update collections\n",
    "#election.update({}, {$set:{}})\n",
    "election.update_one({\"_id\":\"6180100eab2967b695b8f303\"}, {\"$set\":{\"County\":\"Abbeville\"}})"
   ]
  },
  {
   "cell_type": "markdown",
   "id": "7939db6a",
   "metadata": {},
   "source": [
    "## Vaccine-collection"
   ]
  },
  {
   "cell_type": "code",
   "execution_count": 90,
   "id": "2a3294ce",
   "metadata": {},
   "outputs": [
    {
     "name": "stdout",
     "output_type": "stream",
     "text": [
      "{'County': 'Marengo County', 'Fully_Vaccinated': 9272}\n",
      "{'County': 'Taylor County', 'Fully_Vaccinated': 12516}\n",
      "{'County': 'Jefferson County', 'Fully_Vaccinated': 25225}\n",
      "{'County': 'Musselshell County', 'Fully_Vaccinated': 1443}\n",
      "{'County': 'Powder River County', 'Fully_Vaccinated': 330}\n",
      "{'County': 'Henry County', 'Fully_Vaccinated': 22954}\n",
      "{'County': 'Catawba County', 'Fully_Vaccinated': 78378}\n",
      "{'County': 'Ohio County', 'Fully_Vaccinated': 5232}\n",
      "{'County': 'Adams County', 'Fully_Vaccinated': 10165}\n",
      "{'County': 'McDowell County', 'Fully_Vaccinated': 21385}\n"
     ]
    }
   ],
   "source": [
    "#selecting specific columns of collection vaccine \n",
    "for x in vaccine.find({}, {\"_id\":0,\"County\":1,'Fully_Vaccinated':1}).limit(10):\n",
    "    print(x)"
   ]
  },
  {
   "cell_type": "code",
   "execution_count": 93,
   "id": "a8daf36f",
   "metadata": {},
   "outputs": [
    {
     "name": "stdout",
     "output_type": "stream",
     "text": [
      "{'County': 'Adams County'}\n",
      "{'County': 'Arapahoe County'}\n",
      "{'County': 'Avery County'}\n",
      "{'County': 'Albany County'}\n",
      "{'County': 'Alger County'}\n",
      "{'County': 'Avoyelles Parish'}\n",
      "{'County': 'Anne Arundel County'}\n",
      "{'County': 'Allen County'}\n",
      "{'County': 'Adair County'}\n",
      "{'County': 'Acadia Parish'}\n",
      "{'County': 'Ashland County'}\n",
      "{'County': 'Albemarle County'}\n",
      "{'County': 'Androscoggin County'}\n",
      "{'County': 'Ashe County'}\n",
      "{'County': 'Alfalfa County'}\n",
      "{'County': 'Adams County'}\n",
      "{'County': 'Allegan County'}\n",
      "{'County': 'Ada County'}\n",
      "{'County': 'Amelia County'}\n",
      "{'County': 'Aleutians West Census Area'}\n",
      "{'County': 'Appanoose County'}\n",
      "{'County': 'Alleghany County'}\n",
      "{'County': 'Alpena County'}\n",
      "{'County': 'Alachua County'}\n",
      "{'County': 'Archuleta County'}\n",
      "{'County': 'Augusta County'}\n",
      "{'County': 'Assumption Parish'}\n",
      "{'County': 'Atoka County'}\n",
      "{'County': 'Arenac County'}\n",
      "{'County': 'Anoka County'}\n",
      "{'County': 'Accomack County'}\n",
      "{'County': 'Athens County'}\n",
      "{'County': 'Amador County'}\n",
      "{'County': 'Alexander County'}\n",
      "{'County': 'Adair County'}\n",
      "{'County': 'Aitkin County'}\n",
      "{'County': 'Anchorage Municipality'}\n",
      "{'County': 'Ashley County'}\n",
      "{'County': 'Ascension Parish'}\n",
      "{'County': 'Allendale County'}\n",
      "{'County': 'Adair County'}\n",
      "{'County': 'Arroyo Municipio'}\n",
      "{'County': 'Armstrong County'}\n",
      "{'County': 'Atascosa County'}\n",
      "{'County': 'Adams County'}\n",
      "{'County': 'Aguada Municipio'}\n",
      "{'County': 'Archer County'}\n",
      "{'County': 'Adams County'}\n",
      "{'County': 'Anderson County'}\n",
      "{'County': 'Apache County'}\n",
      "{'County': 'Audubon County'}\n",
      "{'County': 'Aurora County'}\n",
      "{'County': 'Adams County'}\n",
      "{'County': 'Ashland County'}\n",
      "{'County': 'Arkansas County'}\n",
      "{'County': 'Arthur County'}\n",
      "{'County': 'Attala County'}\n",
      "{'County': 'Anderson County'}\n",
      "{'County': 'Abbeville County'}\n",
      "{'County': 'Adjuntas Municipio'}\n",
      "{'County': 'Anderson County'}\n",
      "{'County': 'Alcorn County'}\n",
      "{'County': 'Aguas Buenas Municipio'}\n",
      "{'County': 'Asotin County'}\n",
      "{'County': 'Auglaize County'}\n",
      "{'County': 'Allamakee County'}\n",
      "{'County': 'Adams County'}\n",
      "{'County': 'Allegany County'}\n",
      "{'County': 'Armstrong County'}\n",
      "{'County': 'Aibonito Municipio'}\n",
      "{'County': 'Austin County'}\n",
      "{'County': 'Andrews County'}\n",
      "{'County': 'Adams County'}\n",
      "{'County': 'Aransas County'}\n",
      "{'County': 'Anderson County'}\n",
      "{'County': 'Anson County'}\n",
      "{'County': 'Allegheny County'}\n",
      "{'County': 'Anasco Municipio'}\n",
      "{'County': 'Aiken County'}\n",
      "{'County': 'Amite County'}\n",
      "{'County': 'Allegany County'}\n",
      "{'County': 'Allen Parish'}\n",
      "{'County': 'Antrim County'}\n",
      "{'County': 'Atlantic County'}\n",
      "{'County': 'Ashtabula County'}\n",
      "{'County': 'Audrain County'}\n",
      "{'County': 'Aroostook County'}\n",
      "{'County': 'Andrew County'}\n",
      "{'County': 'Appomattox County'}\n",
      "{'County': 'Addison County'}\n",
      "{'County': 'Albany County'}\n",
      "{'County': 'Adams County'}\n",
      "{'County': 'Alleghany County'}\n",
      "{'County': 'Adams County'}\n",
      "{'County': 'Alexandria city'}\n",
      "{'County': 'Atchison County'}\n",
      "{'County': 'Atkinson County'}\n",
      "{'County': 'Arecibo Municipio'}\n",
      "{'County': 'Adams County'}\n",
      "{'County': 'Alpine County'}\n",
      "{'County': 'Adams County'}\n",
      "{'County': 'Amherst County'}\n",
      "{'County': 'Adair County'}\n",
      "{'County': 'Anderson County'}\n",
      "{'County': 'Angelina County'}\n",
      "{'County': 'Antelope County'}\n",
      "{'County': 'Arlington County'}\n",
      "{'County': 'Alcona County'}\n",
      "{'County': 'Atchison County'}\n",
      "{'County': 'Alexander County'}\n",
      "{'County': 'Allen County'}\n",
      "{'County': 'Alameda County'}\n",
      "{'County': 'Aguadilla Municipio'}\n",
      "{'County': 'Appling County'}\n",
      "{'County': 'Aleutians East Borough'}\n",
      "{'County': 'Allen County'}\n",
      "{'County': 'Autauga County'}\n",
      "{'County': 'Alamance County'}\n",
      "{'County': 'Adams County'}\n",
      "{'County': 'Alamosa County'}\n",
      "{'County': 'Allen County'}\n"
     ]
    }
   ],
   "source": [
    "#to find county that start with letter a in combined collection\n",
    "myquery = { \"County\": { \"$regex\": \"^A\" } }\n",
    "\n",
    "comb = combined.find(myquery,{\"_id\":0,\"County\":1,\"Household Income\":1, })\n",
    "\n",
    "for x in comb:\n",
    "    print(x)"
   ]
  },
  {
   "cell_type": "code",
   "execution_count": null,
   "id": "b9d0dec4",
   "metadata": {},
   "outputs": [],
   "source": []
  }
 ],
 "metadata": {
  "kernelspec": {
   "display_name": "Python 3 (ipykernel)",
   "language": "python",
   "name": "python3"
  },
  "language_info": {
   "codemirror_mode": {
    "name": "ipython",
    "version": 3
   },
   "file_extension": ".py",
   "mimetype": "text/x-python",
   "name": "python",
   "nbconvert_exporter": "python",
   "pygments_lexer": "ipython3",
   "version": "3.8.10"
  }
 },
 "nbformat": 4,
 "nbformat_minor": 5
}
