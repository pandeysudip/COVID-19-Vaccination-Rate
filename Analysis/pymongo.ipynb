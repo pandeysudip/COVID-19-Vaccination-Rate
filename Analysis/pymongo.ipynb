{
 "cells": [
  {
   "cell_type": "code",
   "execution_count": 15,
   "id": "22389f30",
   "metadata": {},
   "outputs": [],
   "source": [
    "import pymongo\n",
    "from pymongo import MongoClient\n",
    "import os\n",
    "import pandas as pd"
   ]
  },
  {
   "cell_type": "code",
   "execution_count": 11,
   "id": "4dcd35f6",
   "metadata": {},
   "outputs": [],
   "source": [
    "cluster=MongoClient('mongodb://localhost:27017')\n",
    "#create database\n",
    "db=cluster['etl_project']  \n",
    "#creating collections\n",
    "election=db['election'] \n",
    "census=db['census'] \n",
    "vaccine=db['vaccine'] "
   ]
  },
  {
   "cell_type": "code",
   "execution_count": 12,
   "id": "f0daf291",
   "metadata": {},
   "outputs": [],
   "source": [
    "#Check if \"mydatabase\" exists:\n",
    "dblist = cluster.list_database_names()\n",
    "if 'etl_project' in dblist:\n",
    "    print(\"The database exists.\")"
   ]
  },
  {
   "cell_type": "code",
   "execution_count": 13,
   "id": "911a1812",
   "metadata": {},
   "outputs": [],
   "source": [
    "# path of cleaned csv files\n",
    "path_election=os.path.join('..','data', 'cleaned_data', 'election_data.csv')\n",
    "path_vaccine=os.path.join('..','data', 'cleaned_data', 'vaccine_data.csv')\n",
    "path_census=os.path.join('..','data', 'cleaned_data', 'census_data.csv')"
   ]
  },
  {
   "cell_type": "code",
   "execution_count": 22,
   "id": "b44a5a7a",
   "metadata": {},
   "outputs": [],
   "source": [
    "#creating a function to insert csv files in MongoDB collections\n",
    "def csv_to_json(filename, header=0):\n",
    "    data = pd.read_csv(filename, header=header)\n",
    "    return data.to_dict('records')\n",
    "\n",
    "#print(csv_to_json(path_election))\n"
   ]
  },
  {
   "cell_type": "code",
   "execution_count": 23,
   "id": "ccaf1de2",
   "metadata": {},
   "outputs": [
    {
     "data": {
      "text/plain": [
       "<pymongo.results.InsertManyResult at 0x7faa7fd29840>"
      ]
     },
     "execution_count": 23,
     "metadata": {},
     "output_type": "execute_result"
    }
   ],
   "source": [
    "#Insert a record in collections:\n",
    "election.insert_many(csv_to_json(path_election))\n",
    "census.insert_many(csv_to_json(path_census))\n",
    "vaccine.insert_many(csv_to_json(path_vaccine))"
   ]
  },
  {
   "cell_type": "code",
   "execution_count": 24,
   "id": "45ec83e0",
   "metadata": {},
   "outputs": [
    {
     "data": {
      "text/plain": [
       "{'_id': ObjectId('617e1587ab2967b695b8655a'),\n",
       " 'County': 'Abbeville County',\n",
       " 'State': 'SC',\n",
       " 'Republic': 0.661,\n",
       " 'Democrate': 0.33,\n",
       " 'Win': 'R'}"
      ]
     },
     "execution_count": 24,
     "metadata": {},
     "output_type": "execute_result"
    }
   ],
   "source": [
    "#To select data from a collection in MongoDB, \n",
    "election.find_one()"
   ]
  },
  {
   "cell_type": "code",
   "execution_count": 42,
   "id": "0acc61f9",
   "metadata": {},
   "outputs": [
    {
     "name": "stdout",
     "output_type": "stream",
     "text": [
      "{'_id': ObjectId('617e1587ab2967b695b8655a'), 'County': 'Abbeville County', 'Win': 'R'}\n",
      "{'_id': ObjectId('617e1587ab2967b695b8655b'), 'County': 'Abbot County', 'Win': 'R'}\n",
      "{'_id': ObjectId('617e1587ab2967b695b8655c'), 'County': 'Abington County', 'Win': 'D'}\n",
      "{'_id': ObjectId('617e1587ab2967b695b8655d'), 'County': 'Acadia County', 'Win': 'R'}\n",
      "{'_id': ObjectId('617e1587ab2967b695b8655e'), 'County': 'Accomack County', 'Win': 'R'}\n",
      "{'_id': ObjectId('617e1587ab2967b695b8655f'), 'County': 'Acton County', 'Win': 'R'}\n",
      "{'_id': ObjectId('617e1587ab2967b695b86560'), 'County': 'Acton County', 'Win': 'D'}\n",
      "{'_id': ObjectId('617e1587ab2967b695b86561'), 'County': 'Acushnet County', 'Win': 'R'}\n",
      "{'_id': ObjectId('617e1587ab2967b695b86562'), 'County': 'Acworth County', 'Win': 'D'}\n",
      "{'_id': ObjectId('617e1587ab2967b695b86563'), 'County': 'Ada County', 'Win': 'R'}\n"
     ]
    }
   ],
   "source": [
    "#selecting specific columns\n",
    "for x in election.find({}, {\"County\":1,\"Win\":1}).limit(10):\n",
    "    print(x)"
   ]
  },
  {
   "cell_type": "code",
   "execution_count": 43,
   "id": "743dfb1e",
   "metadata": {},
   "outputs": [
    {
     "name": "stdout",
     "output_type": "stream",
     "text": [
      "{'_id': ObjectId('617e1587ab2967b695b88378'), 'County': 'Marengo County', 'Fully_Vaccinated': 9272}\n",
      "{'_id': ObjectId('617e1587ab2967b695b88379'), 'County': 'Taylor County', 'Fully_Vaccinated': 12516}\n",
      "{'_id': ObjectId('617e1587ab2967b695b8837a'), 'County': 'Jefferson County', 'Fully_Vaccinated': 25225}\n",
      "{'_id': ObjectId('617e1587ab2967b695b8837b'), 'County': 'Musselshell County', 'Fully_Vaccinated': 1443}\n",
      "{'_id': ObjectId('617e1587ab2967b695b8837c'), 'County': 'Powder River County', 'Fully_Vaccinated': 330}\n",
      "{'_id': ObjectId('617e1587ab2967b695b8837d'), 'County': 'Henry County', 'Fully_Vaccinated': 22954}\n",
      "{'_id': ObjectId('617e1587ab2967b695b8837e'), 'County': 'Catawba County', 'Fully_Vaccinated': 78378}\n",
      "{'_id': ObjectId('617e1587ab2967b695b8837f'), 'County': 'Ohio County', 'Fully_Vaccinated': 5232}\n",
      "{'_id': ObjectId('617e1587ab2967b695b88380'), 'County': 'Adams County', 'Fully_Vaccinated': 10165}\n",
      "{'_id': ObjectId('617e1587ab2967b695b88381'), 'County': 'McDowell County', 'Fully_Vaccinated': 21385}\n"
     ]
    }
   ],
   "source": [
    "#selecting specific columns\n",
    "for x in vaccine.find({}, {\"County\":1,'Fully_Vaccinated':1}).limit(10):\n",
    "    print(x)"
   ]
  },
  {
   "cell_type": "code",
   "execution_count": 45,
   "id": "847bfa82",
   "metadata": {},
   "outputs": [
    {
     "name": "stdout",
     "output_type": "stream",
     "text": [
      "{'_id': ObjectId('617e1587ab2967b695b88380'), 'Date': '2021-10-28', 'County': 'Adams County', 'State': 'WA', 'Series_Complete_Pop_Pct': 50.9, 'Fully_Vaccinated': 10165, 'Fully_Vaccinated_12+': 67.4, 'Fully_Vaccinated_18+': 73.9, 'Fully_Vaccinated_65+': 86.9, 'Completeness_pct': 96.1, 'Administered_Dose1_Recip': 11254.0, 'Partially_Vaccinated': 56.3, 'Partially_Vaccinated_12+': 74.7, 'Partially_Vaccinated_18+': 81.1, 'Partially_Vaccinated_65+': 91.9}\n",
      "{'_id': ObjectId('617e1587ab2967b695b883e0'), 'Date': '2021-10-28', 'County': 'Arapahoe County', 'State': 'CO', 'Series_Complete_Pop_Pct': 59.4, 'Fully_Vaccinated': 389928, 'Fully_Vaccinated_12+': 69.8, 'Fully_Vaccinated_18+': 70.7, 'Fully_Vaccinated_65+': 83.6, 'Completeness_pct': 97.4, 'Administered_Dose1_Recip': 416063.0, 'Partially_Vaccinated': 63.4, 'Partially_Vaccinated_12+': 74.4, 'Partially_Vaccinated_18+': 75.5, 'Partially_Vaccinated_65+': 88.8}\n",
      "{'_id': ObjectId('617e1587ab2967b695b88411'), 'Date': '2021-10-28', 'County': 'Avery County', 'State': 'NC', 'Series_Complete_Pop_Pct': 48.3, 'Fully_Vaccinated': 8473, 'Fully_Vaccinated_12+': 53.2, 'Fully_Vaccinated_18+': 55.2, 'Fully_Vaccinated_65+': 78.0, 'Completeness_pct': 97.3, 'Administered_Dose1_Recip': 10074.0, 'Partially_Vaccinated': 57.4, 'Partially_Vaccinated_12+': 63.2, 'Partially_Vaccinated_18+': 65.3, 'Partially_Vaccinated_65+': 92.1}\n",
      "{'_id': ObjectId('617e1587ab2967b695b88423'), 'Date': '2021-10-28', 'County': 'Albany County', 'State': 'WY', 'Series_Complete_Pop_Pct': 47.7, 'Fully_Vaccinated': 18539, 'Fully_Vaccinated_12+': 53.5, 'Fully_Vaccinated_18+': 53.7, 'Fully_Vaccinated_65+': 83.6, 'Completeness_pct': 96.4, 'Administered_Dose1_Recip': 20960.0, 'Partially_Vaccinated': 53.9, 'Partially_Vaccinated_12+': 60.5, 'Partially_Vaccinated_18+': 60.6, 'Partially_Vaccinated_65+': 90.2}\n",
      "{'_id': ObjectId('617e1587ab2967b695b8843b'), 'Date': '2021-10-28', 'County': 'Alger County', 'State': 'MI', 'Series_Complete_Pop_Pct': 58.8, 'Fully_Vaccinated': 5356, 'Fully_Vaccinated_12+': 64.8, 'Fully_Vaccinated_18+': 66.7, 'Fully_Vaccinated_65+': 83.0, 'Completeness_pct': 97.9, 'Administered_Dose1_Recip': 5728.0, 'Partially_Vaccinated': 62.9, 'Partially_Vaccinated_12+': 69.3, 'Partially_Vaccinated_18+': 71.5, 'Partially_Vaccinated_65+': 87.3}\n",
      "{'_id': ObjectId('617e1587ab2967b695b88446'), 'Date': '2021-10-28', 'County': 'Avoyelles Parish', 'State': 'LA', 'Series_Complete_Pop_Pct': 40.9, 'Fully_Vaccinated': 16438, 'Fully_Vaccinated_12+': 48.6, 'Fully_Vaccinated_18+': 50.8, 'Fully_Vaccinated_65+': 70.0, 'Completeness_pct': 96.7, 'Administered_Dose1_Recip': 18950.0, 'Partially_Vaccinated': 47.2, 'Partially_Vaccinated_12+': 56.0, 'Partially_Vaccinated_18+': 58.3, 'Partially_Vaccinated_65+': 75.1}\n",
      "{'_id': ObjectId('617e1587ab2967b695b88455'), 'Date': '2021-10-28', 'County': 'Anne Arundel County', 'State': 'MD', 'Series_Complete_Pop_Pct': 68.6, 'Fully_Vaccinated': 397485, 'Fully_Vaccinated_12+': 80.6, 'Fully_Vaccinated_18+': 81.6, 'Fully_Vaccinated_65+': 94.8, 'Completeness_pct': 98.7, 'Administered_Dose1_Recip': 433406.0, 'Partially_Vaccinated': 74.8, 'Partially_Vaccinated_12+': 87.9, 'Partially_Vaccinated_18+': 88.8, 'Partially_Vaccinated_65+': 99.9}\n",
      "{'_id': ObjectId('617e1587ab2967b695b884aa'), 'Date': '2021-10-28', 'County': 'Allen County', 'State': 'IN', 'Series_Complete_Pop_Pct': 47.8, 'Fully_Vaccinated': 181274, 'Fully_Vaccinated_12+': 57.5, 'Fully_Vaccinated_18+': 60.2, 'Fully_Vaccinated_65+': 85.5, 'Completeness_pct': 98.7, 'Administered_Dose1_Recip': 195225.0, 'Partially_Vaccinated': 51.5, 'Partially_Vaccinated_12+': 62.0, 'Partially_Vaccinated_18+': 64.5, 'Partially_Vaccinated_65+': 88.5}\n",
      "{'_id': ObjectId('617e1587ab2967b695b884ad'), 'Date': '2021-10-28', 'County': 'Adair County', 'State': 'IA', 'Series_Complete_Pop_Pct': 44.7, 'Fully_Vaccinated': 3199, 'Fully_Vaccinated_12+': 52.3, 'Fully_Vaccinated_18+': 54.5, 'Fully_Vaccinated_65+': 75.0, 'Completeness_pct': 97.5, 'Administered_Dose1_Recip': 3427.0, 'Partially_Vaccinated': 47.9, 'Partially_Vaccinated_12+': 56.0, 'Partially_Vaccinated_18+': 58.3, 'Partially_Vaccinated_65+': 79.6}\n",
      "{'_id': ObjectId('617e1587ab2967b695b884b1'), 'Date': '2021-10-28', 'County': 'Acadia Parish', 'State': 'LA', 'Series_Complete_Pop_Pct': 47.7, 'Fully_Vaccinated': 29588, 'Fully_Vaccinated_12+': 57.4, 'Fully_Vaccinated_18+': 61.3, 'Fully_Vaccinated_65+': 90.4, 'Completeness_pct': 96.7, 'Administered_Dose1_Recip': 32939.0, 'Partially_Vaccinated': 53.1, 'Partially_Vaccinated_12+': 63.9, 'Partially_Vaccinated_18+': 68.2, 'Partially_Vaccinated_65+': 95.6}\n"
     ]
    }
   ],
   "source": [
    "#to find county thst start with letter a\n",
    "myquery = { \"County\": { \"$regex\": \"^A\" } }\n",
    "\n",
    "vaccine_a = vaccine.find(myquery).limit(10)\n",
    "\n",
    "for x in vaccine_a:\n",
    "    print(x)"
   ]
  },
  {
   "cell_type": "code",
   "execution_count": null,
   "id": "c54c7709",
   "metadata": {},
   "outputs": [],
   "source": []
  }
 ],
 "metadata": {
  "kernelspec": {
   "display_name": "Python 3 (ipykernel)",
   "language": "python",
   "name": "python3"
  },
  "language_info": {
   "codemirror_mode": {
    "name": "ipython",
    "version": 3
   },
   "file_extension": ".py",
   "mimetype": "text/x-python",
   "name": "python",
   "nbconvert_exporter": "python",
   "pygments_lexer": "ipython3",
   "version": "3.8.10"
  }
 },
 "nbformat": 4,
 "nbformat_minor": 5
}
