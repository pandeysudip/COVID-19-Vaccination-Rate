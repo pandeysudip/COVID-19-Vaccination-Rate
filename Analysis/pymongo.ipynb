{
 "cells": [
  {
   "cell_type": "code",
   "execution_count": 59,
   "id": "69ea72a7",
   "metadata": {},
   "outputs": [],
   "source": [
    "import pymongo\n",
    "from pymongo import MongoClient\n",
    "import os\n",
    "import pandas as pd"
   ]
  },
  {
   "cell_type": "code",
   "execution_count": 61,
   "id": "54ec9137",
   "metadata": {},
   "outputs": [],
   "source": [
    "cluster=MongoClient('mongodb://localhost:27017')\n",
    "#create database\n",
    "db=cluster['etl-project']  \n",
    "#creating collections\n",
    "election=db['election'] \n",
    "census=db['census'] \n",
    "vaccine=db['vaccine'] \n",
    "combined=db['combined']"
   ]
  },
  {
   "cell_type": "code",
   "execution_count": 82,
   "id": "9a9cf562",
   "metadata": {},
   "outputs": [
    {
     "data": {
      "text/plain": [
       "['ClassDB',\n",
       " 'MissionMars',\n",
       " 'admin',\n",
       " 'commerce_db',\n",
       " 'config',\n",
       " 'etl-project',\n",
       " 'etl_project',\n",
       " 'fruits_db',\n",
       " 'local',\n",
       " 'store_inventory']"
      ]
     },
     "execution_count": 82,
     "metadata": {},
     "output_type": "execute_result"
    }
   ],
   "source": [
    "#to find all the databases\n",
    "cluster.list_database_names()"
   ]
  },
  {
   "cell_type": "code",
   "execution_count": 83,
   "id": "5a1e1a78",
   "metadata": {},
   "outputs": [
    {
     "data": {
      "text/plain": [
       "['election', 'census', 'combined', 'vaccine']"
      ]
     },
     "execution_count": 83,
     "metadata": {},
     "output_type": "execute_result"
    }
   ],
   "source": [
    "#to find all collections for particular database\n",
    "db.list_collection_names()"
   ]
  },
  {
   "cell_type": "code",
   "execution_count": 64,
   "id": "ffbc5a22",
   "metadata": {},
   "outputs": [],
   "source": [
    "# path of cleaned csv files\n",
    "path_election=os.path.join('..','data', 'cleaned_data', 'election_data.csv')\n",
    "path_vaccine=os.path.join('..','data', 'cleaned_data', 'vaccine_data.csv')\n",
    "path_census=os.path.join('..','data', 'cleaned_data', 'census_data.csv')\n",
    "path_comb=os.path.join('..','data', 'cleaned_data', 'combined_data.csv')"
   ]
  },
  {
   "cell_type": "code",
   "execution_count": 65,
   "id": "122f2949",
   "metadata": {},
   "outputs": [],
   "source": [
    "#creating a function to insert csv files in MongoDB collections\n",
    "def csv_to_json(filename, header=0):\n",
    "    data = pd.read_csv(filename, header=header)\n",
    "    return data.to_dict('records')#records is list like\n",
    "\n",
    "#print(csv_to_json(path_election))\n"
   ]
  },
  {
   "cell_type": "code",
   "execution_count": 66,
   "id": "a158c2f8",
   "metadata": {},
   "outputs": [
    {
     "data": {
      "text/plain": [
       "<pymongo.results.InsertManyResult at 0x7faa7fa3f580>"
      ]
     },
     "execution_count": 66,
     "metadata": {},
     "output_type": "execute_result"
    }
   ],
   "source": [
    "#Insert a record in collections:\n",
    "election.insert_many(csv_to_json(path_election))\n",
    "census.insert_many(csv_to_json(path_census))\n",
    "vaccine.insert_many(csv_to_json(path_vaccine))\n",
    "combined.insert_many(csv_to_json(path_comb))"
   ]
  },
  {
   "cell_type": "markdown",
   "id": "f2be7796",
   "metadata": {},
   "source": [
    "## Election-collection"
   ]
  },
  {
   "cell_type": "code",
   "execution_count": 96,
   "id": "7e677159",
   "metadata": {},
   "outputs": [
    {
     "data": {
      "text/plain": [
       "{'_id': ObjectId('6180100eab2967b695b8f303'),\n",
       " 'County': 'Abbeville County',\n",
       " 'State': 'SC',\n",
       " 'Republic': 0.661,\n",
       " 'Democrate': 0.33,\n",
       " 'Win': 'R'}"
      ]
     },
     "execution_count": 96,
     "metadata": {},
     "output_type": "execute_result"
    }
   ],
   "source": [
    "#To select data from a collections in MongoDB, \n",
    "election.find_one()"
   ]
  },
  {
   "cell_type": "code",
   "execution_count": 87,
   "id": "8b1a5f3b",
   "metadata": {},
   "outputs": [
    {
     "name": "stdout",
     "output_type": "stream",
     "text": [
      "{'_id': ObjectId('6180100eab2967b695b8f305'), 'County': 'Abington County', 'State': 'MA', 'Republic': 0.439, 'Democrate': 0.537, 'Win': 'D'}\n",
      "{'_id': ObjectId('6180100eab2967b695b8f309'), 'County': 'Acton County', 'State': 'MA', 'Republic': 0.177, 'Democrate': 0.798, 'Win': 'D'}\n",
      "{'_id': ObjectId('6180100eab2967b695b8f30b'), 'County': 'Acworth County', 'State': 'NH', 'Republic': 0.473, 'Democrate': 0.515, 'Win': 'D'}\n",
      "{'_id': ObjectId('6180100eab2967b695b8f311'), 'County': 'Adams County', 'State': 'MS', 'Republic': 0.426, 'Democrate': 0.564, 'Win': 'D'}\n",
      "{'_id': ObjectId('6180100eab2967b695b8f312'), 'County': 'Adams County', 'State': 'MA', 'Republic': 0.322, 'Democrate': 0.652, 'Win': 'D'}\n",
      "{'_id': ObjectId('6180100eab2967b695b8f31b'), 'County': 'Adams County', 'State': 'CO', 'Republic': 0.404, 'Democrate': 0.567, 'Win': 'D'}\n",
      "{'_id': ObjectId('6180100eab2967b695b8f31f'), 'County': 'Addison County', 'State': 'VT', 'Republic': 0.436, 'Democrate': 0.511, 'Win': 'D'}\n",
      "{'_id': ObjectId('6180100eab2967b695b8f323'), 'County': 'Alachua County', 'State': 'FL', 'Republic': 0.356, 'Democrate': 0.627, 'Win': 'D'}\n",
      "{'_id': ObjectId('6180100eab2967b695b8f325'), 'County': 'Alameda County', 'State': 'CA', 'Republic': 0.176, 'Democrate': 0.804, 'Win': 'D'}\n",
      "{'_id': ObjectId('6180100eab2967b695b8f327'), 'County': 'Albany County', 'State': 'VT', 'Republic': 0.435, 'Democrate': 0.53, 'Win': 'D'}\n"
     ]
    }
   ],
   "source": [
    "# to select all where democrat won(limiting to 10 only)\n",
    "for x in election .find({'Win':\"D\"}).limit(10):\n",
    "    print(x)"
   ]
  },
  {
   "cell_type": "code",
   "execution_count": 89,
   "id": "85c35c27",
   "metadata": {},
   "outputs": [
    {
     "name": "stdout",
     "output_type": "stream",
     "text": [
      "{'County': 'Abington County'}\n",
      "{'County': 'Acton County'}\n",
      "{'County': 'Acworth County'}\n",
      "{'County': 'Adams County'}\n",
      "{'County': 'Adams County'}\n",
      "{'County': 'Adams County'}\n",
      "{'County': 'Addison County'}\n",
      "{'County': 'Alachua County'}\n",
      "{'County': 'Alameda County'}\n",
      "{'County': 'Albany County'}\n"
     ]
    }
   ],
   "source": [
    "# to select only county where democrat won(limiting to 10 only)\n",
    "#1 will show that columns\n",
    "for x in election .find({'Win':\"D\"},{\"_id\":0,\"County\":1}).limit(10):\n",
    "    print(x)"
   ]
  },
  {
   "cell_type": "code",
   "execution_count": 103,
   "id": "e02102af",
   "metadata": {},
   "outputs": [
    {
     "name": "stdout",
     "output_type": "stream",
     "text": [
      "{'_id': ObjectId('6180100eab2967b695b8f303'), 'County': 'Abbeville County', 'Win': 'R'}\n",
      "{'_id': ObjectId('6180100eab2967b695b8f304'), 'County': 'Abbot County', 'Win': 'R'}\n",
      "{'_id': ObjectId('6180100eab2967b695b8f305'), 'County': 'Abington County', 'Win': 'D'}\n",
      "{'_id': ObjectId('6180100eab2967b695b8f306'), 'County': 'Acadia County', 'Win': 'R'}\n",
      "{'_id': ObjectId('6180100eab2967b695b8f307'), 'County': 'Accomack County', 'Win': 'R'}\n",
      "{'_id': ObjectId('6180100eab2967b695b8f308'), 'County': 'Acton County', 'Win': 'R'}\n",
      "{'_id': ObjectId('6180100eab2967b695b8f309'), 'County': 'Acton County', 'Win': 'D'}\n",
      "{'_id': ObjectId('6180100eab2967b695b8f30a'), 'County': 'Acushnet County', 'Win': 'R'}\n",
      "{'_id': ObjectId('6180100eab2967b695b8f30b'), 'County': 'Acworth County', 'Win': 'D'}\n",
      "{'_id': ObjectId('6180100eab2967b695b8f30c'), 'County': 'Ada County', 'Win': 'R'}\n"
     ]
    }
   ],
   "source": [
    "#selecting specific columns of collection election(1- will show columns)\n",
    "for x in election.find({}, {\"County\":1,\"Win\":1}).limit(10):\n",
    "    print(x)"
   ]
  },
  {
   "cell_type": "code",
   "execution_count": 102,
   "id": "18ec149a",
   "metadata": {},
   "outputs": [
    {
     "data": {
      "text/plain": [
       "<pymongo.results.UpdateResult at 0x7faa7c487240>"
      ]
     },
     "execution_count": 102,
     "metadata": {},
     "output_type": "execute_result"
    }
   ],
   "source": [
    "#to update collections\n",
    "#election.update({}, {$set:{}})\n",
    "election.update_one({\"_id\":\"6180100eab2967b695b8f303\"}, {\"$set\":{\"County\":\"Abbeville\"}})"
   ]
  },
  {
   "cell_type": "markdown",
   "id": "fcccb868",
   "metadata": {},
   "source": [
    "## Vaccine-collection"
   ]
  },
  {
   "cell_type": "code",
   "execution_count": 90,
   "id": "6408032e",
   "metadata": {},
   "outputs": [
    {
     "name": "stdout",
     "output_type": "stream",
     "text": [
      "{'County': 'Marengo County', 'Fully_Vaccinated': 9272}\n",
      "{'County': 'Taylor County', 'Fully_Vaccinated': 12516}\n",
      "{'County': 'Jefferson County', 'Fully_Vaccinated': 25225}\n",
      "{'County': 'Musselshell County', 'Fully_Vaccinated': 1443}\n",
      "{'County': 'Powder River County', 'Fully_Vaccinated': 330}\n",
      "{'County': 'Henry County', 'Fully_Vaccinated': 22954}\n",
      "{'County': 'Catawba County', 'Fully_Vaccinated': 78378}\n",
      "{'County': 'Ohio County', 'Fully_Vaccinated': 5232}\n",
      "{'County': 'Adams County', 'Fully_Vaccinated': 10165}\n",
      "{'County': 'McDowell County', 'Fully_Vaccinated': 21385}\n"
     ]
    }
   ],
   "source": [
    "#selecting specific columns of collection vaccine \n",
    "for x in vaccine.find({}, {\"_id\":0,\"County\":1,'Fully_Vaccinated':1}).limit(10):\n",
    "    print(x)"
   ]
  },
  {
   "cell_type": "code",
   "execution_count": 105,
   "id": "062988c0",
   "metadata": {},
   "outputs": [
    {
     "name": "stdout",
     "output_type": "stream",
     "text": [
      "{'County': 'Adams County', 'Black Population Rate': 0.3940728709080766}\n",
      "{'County': 'Arapahoe County', 'Black Population Rate': 9.169297253720153}\n",
      "{'County': 'Avery County', 'Black Population Rate': 1.4427744646468164}\n",
      "{'County': 'Albany County', 'Black Population Rate': 0.8664203859361786}\n",
      "{'County': 'Alger County', 'Black Population Rate': 1.7536294431301536}\n",
      "{'County': 'Avoyelles Parish', 'Black Population Rate': 19.940407715187387}\n",
      "{'County': 'Anne Arundel County', 'Black Population Rate': 13.308040327422331}\n",
      "{'County': 'Allen County', 'Black Population Rate': 8.794014274823654}\n",
      "{'County': 'Adair County', 'Black Population Rate': 0.4471711214535487}\n",
      "{'County': 'Acadia Parish', 'Black Population Rate': 10.600556337446946}\n",
      "{'County': 'Ashland County', 'Black Population Rate': 0.1467742049933831}\n",
      "{'County': 'Albemarle County', 'Black Population Rate': 10.81516645569755}\n",
      "{'County': 'Androscoggin County', 'Black Population Rate': 0.7489576970212145}\n",
      "{'County': 'Ashe County', 'Black Population Rate': 0.4384000393121532}\n",
      "{'County': 'Alfalfa County', 'Black Population Rate': 1.4184909610904928}\n",
      "{'County': 'Adams County', 'Black Population Rate': 0.2327564350182081}\n",
      "{'County': 'Allegan County', 'Black Population Rate': 0.972740075108374}\n",
      "{'County': 'Ada County', 'Black Population Rate': 1.2766170213802035}\n",
      "{'County': 'Amelia County', 'Black Population Rate': 16.595546456170137}\n",
      "{'County': 'Aleutians West Census Area', 'Black Population Rate': 1.3661292981161854}\n",
      "{'County': 'Appanoose County', 'Black Population Rate': 0.1831148672461834}\n",
      "{'County': 'Alleghany County', 'Black Population Rate': 0.7939362233383406}\n",
      "{'County': 'Alpena County', 'Black Population Rate': 0.3150206660338231}\n",
      "{'County': 'Alachua County', 'Black Population Rate': 19.668401613282334}\n",
      "{'County': 'Archuleta County', 'Black Population Rate': 0.6090940388231244}\n",
      "{'County': 'Augusta County', 'Black Population Rate': 2.8977987348515715}\n",
      "{'County': 'Assumption Parish', 'Black Population Rate': 29.187406121242905}\n",
      "{'County': 'Atoka County', 'Black Population Rate': 2.5526069479437017}\n",
      "{'County': 'Arenac County', 'Black Population Rate': 0.3851080816775359}\n",
      "{'County': 'Anoka County', 'Black Population Rate': 6.0184519184135}\n",
      "{'County': 'Accomack County', 'Black Population Rate': 24.70369750142121}\n",
      "{'County': 'Athens County', 'Black Population Rate': 1.6672401289483618}\n",
      "{'County': 'Amador County', 'Black Population Rate': 1.0977835290770113}\n",
      "{'County': 'Alexander County', 'Black Population Rate': 21.856831275252613}\n",
      "{'County': 'Adair County', 'Black Population Rate': 0.6431278709769354}\n",
      "{'County': 'Aitkin County', 'Black Population Rate': 0.4934237972081058}\n",
      "{'County': 'Anchorage Municipality', 'Black Population Rate': 5.177980491130957}\n",
      "{'County': 'Ashley County', 'Black Population Rate': 41.05110498035104}\n",
      "{'County': 'Ascension Parish', 'Black Population Rate': 25.480392856458227}\n",
      "{'County': 'Allendale County', 'Black Population Rate': 65.38025045673665}\n",
      "{'County': 'Adair County', 'Black Population Rate': 0.1227727602307191}\n",
      "{'County': 'Arroyo Municipio', 'Black Population Rate': 19.66288967811038}\n",
      "{'County': 'Armstrong County', 'Black Population Rate': 0.1336183858898984}\n",
      "{'County': 'Atascosa County', 'Black Population Rate': 0.1696071021057325}\n",
      "{'County': 'Adams County', 'Black Population Rate': 0.0197005516154452}\n",
      "{'County': 'Aguada Municipio', 'Black Population Rate': 2.405234298429181}\n",
      "{'County': 'Archer County', 'Black Population Rate': 0.7156673114119922}\n",
      "{'County': 'Adams County', 'Black Population Rate': 1.3325930038867295}\n",
      "{'County': 'Anderson County', 'Black Population Rate': 15.237061200626371}\n",
      "{'County': 'Apache County', 'Black Population Rate': 0.3804771949480467}\n",
      "{'County': 'Audubon County', 'Black Population Rate': 0.0718015665796344}\n",
      "{'County': 'Aurora County', 'Black Population Rate': 1.7547016136677132}\n",
      "{'County': 'Adams County', 'Black Population Rate': 1.3878315679474804}\n",
      "{'County': 'Ashland County', 'Black Population Rate': 0.3000897960762411}\n",
      "{'County': 'Arkansas County', 'Black Population Rate': 16.79564155942728}\n",
      "{'County': 'Arthur County', 'Black Population Rate': 0.0}\n",
      "{'County': 'Attala County', 'Black Population Rate': 45.0694192027109}\n",
      "{'County': 'Anderson County', 'Black Population Rate': 0.637962803323958}\n",
      "{'County': 'Abbeville County', 'Black Population Rate': 30.43180303185129}\n",
      "{'County': 'Adjuntas Municipio', 'Black Population Rate': 1.0635189621924852}\n",
      "{'County': 'Anderson County', 'Black Population Rate': 26.21183607591511}\n",
      "{'County': 'Alcorn County', 'Black Population Rate': 8.77897513478921}\n",
      "{'County': 'Aguas Buenas Municipio', 'Black Population Rate': 9.311415105184505}\n",
      "{'County': 'Asotin County', 'Black Population Rate': 0.5652046457817065}\n",
      "{'County': 'Auglaize County', 'Black Population Rate': 1.7268622039746906}\n",
      "{'County': 'Allamakee County', 'Black Population Rate': 1.44936634428247}\n",
      "{'County': 'Adams County', 'Black Population Rate': 3.233096295175829}\n",
      "{'County': 'Allegany County', 'Black Population Rate': 0.9302810369231956}\n",
      "{'County': 'Armstrong County', 'Black Population Rate': 0.5596086767316298}\n",
      "{'County': 'Aibonito Municipio', 'Black Population Rate': 7.598623245962404}\n",
      "{'County': 'Austin County', 'Black Population Rate': 15.785148677353003}\n",
      "{'County': 'Andrews County', 'Black Population Rate': 0.6764249279219339}\n",
      "{'County': 'Adams County', 'Black Population Rate': 1.0464802152002235}\n",
      "{'County': 'Aransas County', 'Black Population Rate': 0.8332149789329168}\n",
      "{'County': 'Anderson County', 'Black Population Rate': 2.8360774380314817}\n",
      "{'County': 'Anson County', 'Black Population Rate': 41.09834338966654}\n",
      "{'County': 'Allegheny County', 'Black Population Rate': 11.072782454063862}\n",
      "{'County': 'Anasco Municipio', 'Black Population Rate': nan}\n",
      "{'County': 'Aiken County', 'Black Population Rate': 24.914006133423623}\n",
      "{'County': 'Amite County', 'Black Population Rate': 37.87399748834466}\n",
      "{'County': 'Allegany County', 'Black Population Rate': 1.7439173063547966}\n",
      "{'County': 'Allen Parish', 'Black Population Rate': 8.181843353025272}\n",
      "{'County': 'Antrim County', 'Black Population Rate': 0.3689484018060876}\n",
      "{'County': 'Atlantic County', 'Black Population Rate': 10.028832177205793}\n",
      "{'County': 'Ashtabula County', 'Black Population Rate': 2.005181425112099}\n",
      "{'County': 'Audrain County', 'Black Population Rate': 4.3651895808766}\n",
      "{'County': 'Aroostook County', 'Black Population Rate': 0.9004144868288463}\n",
      "{'County': 'Andrew County', 'Black Population Rate': 0.2524425029950461}\n",
      "{'County': 'Appomattox County', 'Black Population Rate': 30.79500860715466}\n",
      "{'County': 'Addison County', 'Black Population Rate': 0.6551142720690546}\n",
      "{'County': 'Albany County', 'Black Population Rate': 10.451480891659534}\n",
      "{'County': 'Adams County', 'Black Population Rate': 3.607924723340011}\n",
      "{'County': 'Alleghany County', 'Black Population Rate': 7.975212474614281}\n",
      "{'County': 'Adams County', 'Black Population Rate': 0.3280908946610085}\n",
      "{'County': 'Alexandria city', 'Black Population Rate': 17.85101910181518}\n",
      "{'County': 'Atchison County', 'Black Population Rate': 1.1102663723470525}\n",
      "{'County': 'Atkinson County', 'Black Population Rate': 12.088662302802453}\n",
      "{'County': 'Arecibo Municipio', 'Black Population Rate': 3.8979195965213487}\n",
      "{'County': 'Adams County', 'Black Population Rate': 57.056229327453146}\n",
      "{'County': 'Alpine County', 'Black Population Rate': 5.625}\n",
      "{'County': 'Adams County', 'Black Population Rate': 0.6854525613095425}\n",
      "{'County': 'Amherst County', 'Black Population Rate': 14.648498372232735}\n",
      "{'County': 'Adair County', 'Black Population Rate': 0.9050792507204612}\n",
      "{'County': 'Anderson County', 'Black Population Rate': 1.4285282048522447}\n",
      "{'County': 'Angelina County', 'Black Population Rate': 10.81184588346268}\n",
      "{'County': 'Antelope County', 'Black Population Rate': 0.971265627761224}\n",
      "{'County': 'Arlington County', 'Black Population Rate': 7.921917315176424}\n",
      "{'County': 'Alcona County', 'Black Population Rate': 0.2831833529056245}\n",
      "{'County': 'Atchison County', 'Black Population Rate': 0.3262672274920144}\n",
      "{'County': 'Alexander County', 'Black Population Rate': 4.135716577601393}\n",
      "{'County': 'Allen County', 'Black Population Rate': 0.4160665706513041}\n",
      "{'County': 'Alameda County', 'Black Population Rate': 10.57533305555862}\n",
      "{'County': 'Aguadilla Municipio', 'Black Population Rate': 2.193326922038566}\n",
      "{'County': 'Appling County', 'Black Population Rate': 16.496666829575158}\n",
      "{'County': 'Aleutians East Borough', 'Black Population Rate': 3.723329358487112}\n",
      "{'County': 'Allen County', 'Black Population Rate': 5.326249224937326}\n",
      "{'County': 'Autauga County', 'Black Population Rate': 25.715262849141244}\n",
      "{'County': 'Alamance County', 'Black Population Rate': 13.431083947185192}\n",
      "{'County': 'Adams County', 'Black Population Rate': 0.2075765438505449}\n",
      "{'County': 'Alamosa County', 'Black Population Rate': 1.2514375486936875}\n",
      "{'County': 'Allen County', 'Black Population Rate': 0.4353399973651112}\n"
     ]
    }
   ],
   "source": [
    "#to find county that start with letter a in combined collection\n",
    "myquery = { \"County\": { \"$regex\": \"^A\" } }\n",
    "\n",
    "comb = combined.find(myquery,{\"_id\":0,\"County\":1,\"Black Population Rate\":1 })\n",
    "\n",
    "for x in comb:\n",
    "    print(x)"
   ]
  },
  {
   "cell_type": "code",
   "execution_count": null,
   "id": "e04bb6da",
   "metadata": {},
   "outputs": [],
   "source": []
  }
 ],
 "metadata": {
  "kernelspec": {
   "display_name": "Python 3 (ipykernel)",
   "language": "python",
   "name": "python3"
  },
  "language_info": {
   "codemirror_mode": {
    "name": "ipython",
    "version": 3
   },
   "file_extension": ".py",
   "mimetype": "text/x-python",
   "name": "python",
   "nbconvert_exporter": "python",
   "pygments_lexer": "ipython3",
   "version": "3.8.10"
  }
 },
 "nbformat": 4,
 "nbformat_minor": 5
}
