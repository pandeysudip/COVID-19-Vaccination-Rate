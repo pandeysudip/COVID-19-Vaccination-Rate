{
 "cells": [
  {
   "cell_type": "code",
   "execution_count": 57,
   "metadata": {},
   "outputs": [],
   "source": [
    "import sqlalchemy as db\n",
    "import pandas as pd\n",
    "import os\n",
    "import csv\n",
    "import seaborn as sns\n",
    "import matplotlib.pyplot as plt"
   ]
  },
  {
   "cell_type": "markdown",
   "metadata": {},
   "source": [
    "## Connecting to database"
   ]
  },
  {
   "cell_type": "code",
   "execution_count": 58,
   "metadata": {},
   "outputs": [],
   "source": [
    "# connecting to database sql_challenge created in postgresql\n",
    "engine = db.create_engine('postgresql://localhost:5432/test')\n",
    "connection = engine.connect()\n",
    "metadata = db.MetaData()"
   ]
  },
  {
   "cell_type": "code",
   "execution_count": 59,
   "metadata": {},
   "outputs": [
    {
     "name": "stderr",
     "output_type": "stream",
     "text": [
      "/var/folders/ld/_spx9cwj74z4zm921xp1zssh0000gn/T/ipykernel_2268/3558990862.py:2: SADeprecationWarning: The Engine.table_names() method is deprecated and will be removed in a future release.  Please refer to Inspector.get_table_names(). (deprecated since: 1.4)\n",
      "  engine.table_names()\n"
     ]
    },
    {
     "data": {
      "text/plain": [
       "[]"
      ]
     },
     "execution_count": 59,
     "metadata": {},
     "output_type": "execute_result"
    }
   ],
   "source": [
    "#to find all the tables for the database (it should be empty)\n",
    "engine.table_names()"
   ]
  },
  {
   "cell_type": "markdown",
   "metadata": {},
   "source": [
    "# Creating Table\n"
   ]
  },
  {
   "cell_type": "code",
   "execution_count": 60,
   "metadata": {},
   "outputs": [],
   "source": [
    "#creating new empty tables \n",
    "election = db.Table('election', metadata,\n",
    "              db.Column('County', db.String(100), primary_key=True, nullable=False), \n",
    "              db.Column('State', db.String(100),primary_key=True, nullable=False),\n",
    "                db.Column('Republic', db.Float()), \n",
    "                db.Column('Democrate', db.Float()), \n",
    "                db.Column('Win', db.String(100)) \n",
    "              )\n",
    "\n",
    "census = db.Table('census', metadata,\n",
    "              db.Column('County', db.String(), primary_key=True, nullable=False), \n",
    "              db.Column('State', db.String(20), primary_key=True, nullable=False),\n",
    "                  db.Column('Population', db.Float()), \n",
    "                  db.Column('Median Age', db.Float()),\n",
    "                  db.Column('Household Income', db.Float()), \n",
    "                  db.Column('Poverty Rate', db.Float()), \n",
    "                  db.Column('Unemployment Rate', db.Float()), \n",
    "                  db.Column('High School Rate', db.Float()), \n",
    "                  db.Column('College Rate', db.Float()), \n",
    "                  db.Column('Uneducated Rate', db.Float()), \n",
    "                  db.Column('White Population Rate', db.Float()), \n",
    "                  db.Column('Black Population Rate', db.Float()),\n",
    "                  db.Column('Hispanic Population Rate', db.Float()),\n",
    "                  db.Column('Asian Population Rate', db.Float())                  \n",
    "              )\n",
    "\n",
    "vaccine = db.Table('vaccine', metadata,\n",
    "                   db.Column('Date', db.Date()),\n",
    "                  db.Column('County', db.String(100), primary_key=True, nullable=False), \n",
    "                  db.Column('State', db.String(100),primary_key=True, nullable=False),  \n",
    "                   db.Column('Series_Complete_Pop_Pct', db.Float()),\n",
    "                   db.Column('Fully_Vaccinated', db.Float()),\n",
    "                   db.Column('Fully_Vaccinated_12+', db.Float()),\n",
    "                   db.Column('Fully_Vaccinated_18+', db.Float()),\n",
    "                   db.Column('Fully_Vaccinated_65+', db.Float()),\n",
    "                   db.Column('Completeness_pct', db.Float()),\n",
    "                   db.Column('Administered_Dose1_Recip', db.Float()),\n",
    "                   db.Column('Partially_Vaccinated', db.Float()),\n",
    "                   db.Column('Partially_Vaccinated_12+', db.Float()),\n",
    "                   db.Column('Partially_Vaccinated_18+', db.Float()),\n",
    "                   db.Column('Partially_Vaccinated_65+', db.Float()),     \n",
    "              )\n",
    "\n",
    "metadata.create_all(engine) #Creates the tables"
   ]
  },
  {
   "cell_type": "code",
   "execution_count": 61,
   "metadata": {},
   "outputs": [
    {
     "name": "stderr",
     "output_type": "stream",
     "text": [
      "/var/folders/ld/_spx9cwj74z4zm921xp1zssh0000gn/T/ipykernel_2268/1032459306.py:2: SADeprecationWarning: The Engine.table_names() method is deprecated and will be removed in a future release.  Please refer to Inspector.get_table_names(). (deprecated since: 1.4)\n",
      "  engine.table_names()\n"
     ]
    },
    {
     "data": {
      "text/plain": [
       "['election', 'census', 'vaccine']"
      ]
     },
     "execution_count": 61,
     "metadata": {},
     "output_type": "execute_result"
    }
   ],
   "source": [
    "#to find all the tables for the database(it will show all the tables created)\n",
    "engine.table_names()"
   ]
  },
  {
   "cell_type": "code",
   "execution_count": 62,
   "metadata": {},
   "outputs": [],
   "source": [
    "#getting the tables from database\n",
    "election = db.Table('election', metadata, autoload=True, autoload_with=engine)\n",
    "census = db.Table('census', metadata, autoload=True, autoload_with=engine)\n",
    "vaccine = db.Table('vaccine', metadata, autoload=True, autoload_with=engine)"
   ]
  },
  {
   "cell_type": "markdown",
   "metadata": {},
   "source": [
    "## Inserting values in tables from csv files \n"
   ]
  },
  {
   "cell_type": "code",
   "execution_count": 63,
   "metadata": {},
   "outputs": [],
   "source": [
    "#For table election\n",
    "path_election=os.path.join('cleaned_data', 'election_data.csv')\n",
    "\n",
    "with open(path_election, 'r', encoding=\"utf-8\") as elec:\n",
    "    next(elec) #removing header\n",
    "    csv_election = csv.reader(elec, delimiter=',')\n",
    "    engine.execute(\n",
    "        election.insert(),\n",
    "        [{'County': row[0],\n",
    "         'State': row[1],\n",
    "         'Republic': row[2],\n",
    "         'Democrate':row[3],\n",
    "         'Win': row[4]} \n",
    "            for row in csv_election]\n",
    "    )\n",
    "\n",
    "\n",
    "#For table census\n",
    "path_census=os.path.join('cleaned_data', 'census_data.csv')\n",
    "\n",
    "with open(path_census, 'r', encoding=\"utf-8\") as cens:\n",
    "    next(cens) #removing header\n",
    "    csv_census = csv.reader(cens, delimiter=',')\n",
    "    engine.execute(\n",
    "        census.insert(),\n",
    "        [{'County': row[0],\n",
    "          'State': row[1],\n",
    "          'Population': row[2],\n",
    "          'Median Age': row[3],\n",
    "          'Household Income': row[4],\n",
    "           'Poverty Rate': row[5],\n",
    "          'Unemployment Rate': row[6],\n",
    "          'High School Rate': row[7],\n",
    "          'College Rate': row[8],\n",
    "           'Uneducated Rate': row[9], \n",
    "          'White Population Rate': row[10],\n",
    "          'Black Population Rate': row[11],\n",
    "           'Hispanic Population Rate': row[12],\n",
    "          'Asian Population Rate': row[13]} \n",
    "            for row in csv_census]\n",
    "    )\n",
    "\n",
    "#For table cdc_vaccine\n",
    "path_vaccine=os.path.join('cleaned_data', 'vaccine_data.csv')\n",
    "\n",
    "with open(path_vaccine, 'r', encoding=\"utf-8\") as vacc:\n",
    "    next(vacc) #removing header\n",
    "    csv_vaccine = csv.reader(vacc, delimiter=',')\n",
    "    engine.execute(\n",
    "        vaccine.insert(),\n",
    "        [{'Date': row[0],\n",
    "          'County': row[1],\n",
    "          'State': row[2],\n",
    "          'Series_Complete_Pop_Pct': row[3],\n",
    "           'Fully_Vaccinated': row[4],\n",
    "          'Fully_Vaccinated_12+': row[5],\n",
    "          'Fully_Vaccinated_18+': row[6],\n",
    "           'Fully_Vaccinated_65+': row[7],\n",
    "          'Completeness_pct': row[8],\n",
    "          'Administered_Dose1_Recip': row[9],\n",
    "           'Partially_Vaccinated': row[10],\n",
    "          'Partially_Vaccinated_12+': row[11],\n",
    "           'Partially_Vaccinated_18+': row[12],\n",
    "          'Partially_Vaccinated_65+': row[13]}\n",
    "         for row in csv_vaccine]\n",
    "    )\n"
   ]
  },
  {
   "cell_type": "code",
   "execution_count": 65,
   "metadata": {},
   "outputs": [
    {
     "name": "stdout",
     "output_type": "stream",
     "text": [
      "Table('census', MetaData(), Column('County', String(), table=<census>, primary_key=True, nullable=False), Column('State', String(length=20), table=<census>, primary_key=True, nullable=False), Column('Population', Float(), table=<census>), Column('Median Age', Float(), table=<census>), Column('Household Income', Float(), table=<census>), Column('Poverty Rate', Float(), table=<census>), Column('Unemployment Rate', Float(), table=<census>), Column('High School Rate', Float(), table=<census>), Column('College Rate', Float(), table=<census>), Column('Uneducated Rate', Float(), table=<census>), Column('White Population Rate', Float(), table=<census>), Column('Black Population Rate', Float(), table=<census>), Column('Hispanic Population Rate', Float(), table=<census>), Column('Asian Population Rate', Float(), table=<census>), schema=None)\n"
     ]
    }
   ],
   "source": [
    "# Print full table metadata for employees table\n",
    "print(repr(metadata.tables['census']))"
   ]
  },
  {
   "cell_type": "code",
   "execution_count": 66,
   "metadata": {},
   "outputs": [
    {
     "data": {
      "text/plain": [
       "['County',\n",
       " 'State',\n",
       " 'Population',\n",
       " 'Median Age',\n",
       " 'Household Income',\n",
       " 'Poverty Rate',\n",
       " 'Unemployment Rate',\n",
       " 'High School Rate',\n",
       " 'College Rate',\n",
       " 'Uneducated Rate',\n",
       " 'White Population Rate',\n",
       " 'Black Population Rate',\n",
       " 'Hispanic Population Rate',\n",
       " 'Asian Population Rate']"
      ]
     },
     "execution_count": 66,
     "metadata": {},
     "output_type": "execute_result"
    }
   ],
   "source": [
    "#can also use c instead of columns\n",
    "census.c.keys()"
   ]
  },
  {
   "cell_type": "markdown",
   "metadata": {},
   "source": [
    "# Querying\n"
   ]
  },
  {
   "cell_type": "markdown",
   "metadata": {},
   "source": [
    "### 1. To list employee number, last name, first name, sex, and salary"
   ]
  },
  {
   "cell_type": "code",
   "execution_count": null,
   "metadata": {},
   "outputs": [],
   "source": [
    "### sql\n",
    "sql_1= '''SELECT .emp_no, e.last_name, e.first_name, e.sex, s.salary \n",
    "       FROM employees AS e\n",
    "       JOIN salaries AS s\n",
    "       ON e.emp_no=s.emp_no'''"
   ]
  },
  {
   "cell_type": "code",
   "execution_count": null,
   "metadata": {},
   "outputs": [],
   "source": [
    "#using text\n",
    "results_1=connection.execute(db.text(sql_1)).fetchall()\n",
    "df_1 = pd.DataFrame(results_1, columns=(['Emp_No', 'Last_Name', \n",
    "                                         \"First_Name\",'Sex','Salary']))\n",
    "df_1\n"
   ]
  },
  {
   "cell_type": "code",
   "execution_count": null,
   "metadata": {},
   "outputs": [],
   "source": [
    "#using sql_alchemy\n",
    "res_1=connection.execute(db.select([employees.c.emp_no,\n",
    "                                   employees.c.last_name,\n",
    "                                   employees.c.first_name,\n",
    "                                   employees.c.sex,\n",
    "                                   salaries.c.salary])\n",
    "                         .join(salaries, employees.c.emp_no==salaries.c.emp_no)\n",
    "                         ).fetchall()\n",
    "df_alc1 = pd.DataFrame(res_1, columns=(['Emp_No', 'Last_Name', \n",
    "                                         \"First_Name\",'Sex','Salary']))\n",
    "df_alc1"
   ]
  },
  {
   "cell_type": "markdown",
   "metadata": {},
   "source": [
    "### 3. To list the manager of each department with the following information: department number, department name, the manager's employee number, last name, first name."
   ]
  },
  {
   "cell_type": "code",
   "execution_count": null,
   "metadata": {},
   "outputs": [],
   "source": [
    "sql_3='''SELECT  d.dept_no, d.dept_name, e.emp_no, e.last_name, e.first_name \n",
    "        FROM departments AS d\n",
    "        JOIN dept_manager AS dm\n",
    "        ON d.dept_no=dm.dept_no\n",
    "        JOIN employees AS e\n",
    "        ON dm.emp_no=e.emp_no'''"
   ]
  },
  {
   "cell_type": "code",
   "execution_count": null,
   "metadata": {},
   "outputs": [],
   "source": [
    "#using text\n",
    "results_3=connection.execute(db.text(sql_3)).fetchall()\n",
    "df_3 = pd.DataFrame(results_3, columns=(['dept_no', 'dept_name', \n",
    "                                         'emp_no', 'last_name', 'first_name']))\n",
    "df_3"
   ]
  },
  {
   "cell_type": "code",
   "execution_count": null,
   "metadata": {},
   "outputs": [],
   "source": [
    "#using sql_alchemy\n",
    "res_3=connection.execute(db.select([departments.c.dept_no,\n",
    "                                    departments.c.dept_name,\n",
    "                                    employees.c.emp_no,\n",
    "                                   employees.c.last_name,\n",
    "                                   employees.c.first_name])\n",
    "                         .join(dept_manager, departments.c.dept_no==dept_manager.c.dept_no)\n",
    "                         .join(employees, dept_manager.c.emp_no==employees.c.emp_no)\n",
    "                         ).fetchall()\n",
    "df_alc3 = pd.DataFrame(res_3, columns=(['dept_no', 'dept_name', \n",
    "                                         'emp_no', 'last_name', 'first_name']))\n",
    "df_alc3"
   ]
  },
  {
   "cell_type": "markdown",
   "metadata": {},
   "source": [
    "### 7. To list all employees in the Sales and Development departments, including their employee number, last name, first name, and department name."
   ]
  },
  {
   "cell_type": "code",
   "execution_count": null,
   "metadata": {},
   "outputs": [],
   "source": [
    "sql_7='''SELECT e.emp_no, e.last_name, e.first_name, e.sex, d.dept_name\n",
    "        FROM employees AS e\n",
    "        JOIN dept_emp AS de\n",
    "        ON e.emp_no=de.emp_no\n",
    "        JOIN departments AS d\n",
    "        ON de.dept_no=d.dept_no\n",
    "        WHERE d.dept_name='Sales' OR d.dept_name='Development' '''"
   ]
  },
  {
   "cell_type": "code",
   "execution_count": null,
   "metadata": {},
   "outputs": [],
   "source": [
    "#using text\n",
    "results_7=connection.execute(db.text(sql_7)).fetchall()\n",
    "df_7 = pd.DataFrame(results_7, columns=(['emp_no', 'last_name', \n",
    "                                         'first_name','sex','dept_name']))\n",
    "df_7"
   ]
  },
  {
   "cell_type": "code",
   "execution_count": null,
   "metadata": {},
   "outputs": [],
   "source": [
    "#using sql_alchemy\n",
    "res_7=connection.execute(db.select([employees.c.emp_no,\n",
    "                                   employees.c.last_name,\n",
    "                                   employees.c.first_name,\n",
    "                                   employees.c.sex,\n",
    "                                   departments.c.dept_name])\n",
    "                         .join(dept_emp, employees.c.emp_no==dept_emp.c.emp_no)\n",
    "                         .join(departments, dept_emp.c.dept_no==departments.c.dept_no)\n",
    "                         .where(db.or_(departments.c.dept_name=='Sales', \n",
    "                                      departments.c.dept_name=='Development'))\n",
    "                         ).fetchall()\n",
    "df_alc7 = pd.DataFrame(res_7, columns=(['emp_no', 'last_name', \n",
    "                                         'first_name','sex','dept_name']))\n",
    "df_alc7"
   ]
  },
  {
   "cell_type": "markdown",
   "metadata": {},
   "source": [
    "# Plotting"
   ]
  },
  {
   "cell_type": "code",
   "execution_count": null,
   "metadata": {},
   "outputs": [],
   "source": [
    "#histogram to visualize the most common salary ranges for employees.\n",
    "fig, ax=plt.subplots(figsize=(12,12))\n",
    "df_1['Salary'].plot(kind='hist', color='r',ax=ax)\n",
    "ax.set(xlabel='Salary($)', title='Salary range for employees')\n",
    "plt.show()"
   ]
  },
  {
   "cell_type": "code",
   "execution_count": null,
   "metadata": {},
   "outputs": [],
   "source": [
    "#histogram to visualize the most common salary ranges for employees\n",
    "fig, ax=plt.subplots(figsize=(12,12))\n",
    "sns.histplot(x='Salary', data=df_1,kde=True,hue=\"Sex\", ax=ax)\n",
    "ax.set(xlabel='Salary($)', title='Salary range for employees')\n",
    "plt.show()"
   ]
  },
  {
   "cell_type": "markdown",
   "metadata": {},
   "source": [
    "### Most common lastname"
   ]
  },
  {
   "cell_type": "code",
   "execution_count": null,
   "metadata": {},
   "outputs": [],
   "source": [
    "most_common_lastname=df_8.nlargest(20, 'count')\n",
    "fig, ax=plt.subplots(figsize=(15,15))\n",
    "sns.barplot(x='last_name', y='count',\n",
    "            data=most_common_lastname, alpha=0.9,ax=ax)\n",
    "ax.set_xticklabels(ax.get_xticklabels(), rotation=45)\n",
    "plt.show()"
   ]
  },
  {
   "cell_type": "markdown",
   "metadata": {},
   "source": [
    "### Bar chart of average salary by title."
   ]
  },
  {
   "cell_type": "code",
   "execution_count": null,
   "metadata": {},
   "outputs": [],
   "source": [
    "#Create a bar chart of average salary by title.\n",
    "sql_9='''SELECT e.emp_no, e.last_name, e.first_name, t.title, s.salary\n",
    "        FROM employees AS e\n",
    "        JOIN salaries AS s\n",
    "        ON e.emp_no=s.emp_no\n",
    "        JOIN titles AS t\n",
    "        ON e.emp_title_id=t.title_id'''\n",
    "results_9=connection.execute(db.text(sql_9)).fetchall()\n",
    "df_9 = pd.DataFrame(results_9, columns=(['emp_no','last_name',\n",
    "                                         'first_name', 'title', 'salary']))\n",
    "df_9"
   ]
  },
  {
   "cell_type": "code",
   "execution_count": null,
   "metadata": {},
   "outputs": [],
   "source": [
    "fig, ax=plt.subplots(figsize=(15,15))\n",
    "sns.barplot(x='title', y='salary',\n",
    "            data=df_9, alpha=0.9,ax=ax)\n",
    "ax.set_xticklabels(ax.get_xticklabels(), rotation=45)\n",
    "plt.show()"
   ]
  },
  {
   "cell_type": "markdown",
   "metadata": {},
   "source": [
    "## Bar and pie plots for Departments"
   ]
  },
  {
   "cell_type": "code",
   "execution_count": null,
   "metadata": {},
   "outputs": [],
   "source": [
    "dep=pd.DataFrame(df_4.groupby('dept_name')['emp_no'].count())\n",
    "dep.columns=['Total employees']"
   ]
  },
  {
   "cell_type": "code",
   "execution_count": null,
   "metadata": {},
   "outputs": [],
   "source": [
    "fig,ax=plt.subplots(figsize=(12,12))\n",
    "dep.plot(kind='bar', color='r',ax=ax)\n",
    "ax.set(xlabel='Departments', ylabel='Count')\n",
    "ax.legend()\n",
    "plt.show()"
   ]
  },
  {
   "cell_type": "code",
   "execution_count": null,
   "metadata": {},
   "outputs": [],
   "source": [
    "plt.style.use('ggplot')\n",
    "fig,ax=plt.subplots(figsize=(12,12))\n",
    "dep.plot(kind='pie', y='Total employees',autopct='%1.0f%%', ax=ax)\n",
    "plt.show()"
   ]
  },
  {
   "cell_type": "code",
   "execution_count": null,
   "metadata": {},
   "outputs": [],
   "source": []
  }
 ],
 "metadata": {
  "kernelspec": {
   "display_name": "Python 3 (ipykernel)",
   "language": "python",
   "name": "python3"
  },
  "language_info": {
   "codemirror_mode": {
    "name": "ipython",
    "version": 3
   },
   "file_extension": ".py",
   "mimetype": "text/x-python",
   "name": "python",
   "nbconvert_exporter": "python",
   "pygments_lexer": "ipython3",
   "version": "3.8.10"
  },
  "metadata": {
   "interpreter": {
    "hash": "082e9a3bcad0a290d0001e938aa60b99250c6c2ef33a923c00b70f9826caf4b7"
   }
  }
 },
 "nbformat": 4,
 "nbformat_minor": 4
}
