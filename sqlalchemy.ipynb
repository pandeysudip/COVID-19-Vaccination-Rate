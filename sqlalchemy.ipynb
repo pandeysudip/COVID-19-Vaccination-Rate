{
 "cells": [
  {
   "cell_type": "code",
   "execution_count": 13,
   "metadata": {},
   "outputs": [],
   "source": [
    "import sqlalchemy as db\n",
    "import pandas as pd\n",
    "import os\n",
    "import csv\n",
    "import seaborn as sns\n",
    "import matplotlib.pyplot as plt"
   ]
  },
  {
   "cell_type": "markdown",
   "metadata": {},
   "source": [
    "## Connecting to database"
   ]
  },
  {
   "cell_type": "code",
   "execution_count": 14,
   "metadata": {},
   "outputs": [],
   "source": [
    "# connecting to database sql_challenge created in postgresql\n",
    "engine = db.create_engine('postgresql://localhost:5432/project2')\n",
    "connection = engine.connect()\n",
    "metadata = db.MetaData()"
   ]
  },
  {
   "cell_type": "code",
   "execution_count": 15,
   "metadata": {},
   "outputs": [
    {
     "name": "stderr",
     "output_type": "stream",
     "text": [
      "/var/folders/ld/_spx9cwj74z4zm921xp1zssh0000gn/T/ipykernel_2268/3558990862.py:2: SADeprecationWarning: The Engine.table_names() method is deprecated and will be removed in a future release.  Please refer to Inspector.get_table_names(). (deprecated since: 1.4)\n",
      "  engine.table_names()\n"
     ]
    },
    {
     "data": {
      "text/plain": [
       "[]"
      ]
     },
     "execution_count": 15,
     "metadata": {},
     "output_type": "execute_result"
    }
   ],
   "source": [
    "#to find all the tables for the database (it should be empty)\n",
    "engine.table_names()"
   ]
  },
  {
   "cell_type": "markdown",
   "metadata": {},
   "source": [
    "# Creating Table\n"
   ]
  },
  {
   "cell_type": "code",
   "execution_count": 16,
   "metadata": {},
   "outputs": [],
   "source": [
    "#creating new empty tables \n",
    "election = db.Table('election', metadata,\n",
    "              db.Column('County', db.String(20), primary_key=True, nullable=False), \n",
    "              db.Column('State', db.String(20),primary_key=True, nullable=False),\n",
    "                db.Column('Republic', db.Integer()), \n",
    "                db.Column('Democrate', db.Integer()), \n",
    "                db.Column('Win', db.String(20)) \n",
    "              )\n",
    "\n",
    "census = db.Table('census', metadata,\n",
    "              db.Column('County', db.String(), primary_key=True, nullable=False), \n",
    "              db.Column('State', db.String(20)),\n",
    "                  db.Column('Population', db.Float()), \n",
    "                  db.Column('Median Age', db.Float()),\n",
    "                  db.Column('Household Income', db.Float()), \n",
    "                  db.Column('Poverty Rate', db.Float()), \n",
    "                  db.Column('Unemployment Rate', db.Float()), \n",
    "                  db.Column( 'High School Rate', db.Float()), \n",
    "                  db.Column('College Rate', db.Float()), \n",
    "                  db.Column('Uneducated Rate', db.Float()), \n",
    "                  db.Column('White Population Rate', db.Float()), \n",
    "                  db.Column('Black Population Rate', db.Float()),\n",
    "                  db.Column('Hispanic Population Rate', db.Float()),\n",
    "                  db.Column('Asian Population Rate', db.Float())                  \n",
    "              )\n",
    "\n",
    "\n",
    "vaccine = db.Table('vaccine', metadata,\n",
    "                   db.Column('Date', db.Date()),\n",
    "                  db.Column('County', db.String(20), primary_key=True, nullable=False), \n",
    "                  db.Column('State', db.String(10),primary_key=True, nullable=False),  \n",
    "                   db.Column('Series_Complete_Pop_Pct', db.Float()),\n",
    "                   db.Column('Fully_Vaccinated', db.Integer()),\n",
    "                   db.Column('Fully_Vaccinated_12+', db.Float()),\n",
    "                   db.Column('Fully_Vaccinated_18+', db.Float()),\n",
    "                   db.Column('Fully_Vaccinated_65+', db.Float()),\n",
    "                   db.Column('Administered_Dose1_Recip', db.Integer()),\n",
    "                   db.Column('Partially_Vaccinated_12+', db.Float()),\n",
    "                   db.Column('Partially_Vaccinated_18+', db.Float()),\n",
    "                   db.Column('Partially_Vaccinated_65+', db.Float()),\n",
    "        \n",
    "              )\n",
    "\n",
    "metadata.create_all(engine) #Creates the tables"
   ]
  },
  {
   "cell_type": "code",
   "execution_count": null,
   "metadata": {},
   "outputs": [],
   "source": []
  },
  {
   "cell_type": "code",
   "execution_count": 17,
   "metadata": {},
   "outputs": [
    {
     "name": "stderr",
     "output_type": "stream",
     "text": [
      "/var/folders/ld/_spx9cwj74z4zm921xp1zssh0000gn/T/ipykernel_2268/1032459306.py:2: SADeprecationWarning: The Engine.table_names() method is deprecated and will be removed in a future release.  Please refer to Inspector.get_table_names(). (deprecated since: 1.4)\n",
      "  engine.table_names()\n"
     ]
    },
    {
     "data": {
      "text/plain": [
       "['election', 'census', 'vaccine']"
      ]
     },
     "execution_count": 17,
     "metadata": {},
     "output_type": "execute_result"
    }
   ],
   "source": [
    "#to find all the tables for the database(it will show all the tables created)\n",
    "engine.table_names()"
   ]
  },
  {
   "cell_type": "code",
   "execution_count": 18,
   "metadata": {},
   "outputs": [],
   "source": [
    "#getting the tables from database\n",
    "election = db.Table('election', metadata, autoload=True, autoload_with=engine)\n",
    "census = db.Table('census', metadata, autoload=True, autoload_with=engine)\n",
    "vaccine = db.Table('vaccine', metadata, autoload=True, autoload_with=engine)\n"
   ]
  },
  {
   "cell_type": "markdown",
   "metadata": {},
   "source": [
    "## Inserting values in tables from csv files \n"
   ]
  },
  {
   "cell_type": "code",
   "execution_count": null,
   "metadata": {},
   "outputs": [],
   "source": [
    "#For table election\n",
    "path_election=os.path.join('cleaned_data', 'election_data.csv')\n",
    "\n",
    "with open(path_election, 'r', encoding=\"utf-8\") as tit:\n",
    "    next(tit) #removing header\n",
    "    csv_tit = csv.reader(tit, delimiter=',')\n",
    "    engine.execute(\n",
    "        titles.insert(),\n",
    "        [{\"title_id\": row[0], \"title\": row[1]} \n",
    "            for row in csv_tit]\n",
    "    )\n",
    "\n",
    "\n",
    "#For table census\n",
    "path_census=os.path.join('data', 'departments.csv')\n",
    "\n",
    "with open(path_census, 'r', encoding=\"utf-8\") as dept:\n",
    "    next(dept) #removing header\n",
    "    csv_dept = csv.reader(dept, delimiter=',')\n",
    "    engine.execute(\n",
    "        departments.insert(),\n",
    "        [{\"dept_no\": row[0], \"dept_name\": row[1]} \n",
    "            for row in csv_dept]\n",
    "    )\n",
    "\n",
    "#For table cdc_vaccine\n",
    "path_vaccine=os.path.join('data', 'employees.csv')\n",
    "\n",
    "with open(path_cdc_vaccine, 'r', encoding=\"utf-8\") as emp:\n",
    "    next(emp) #removing header\n",
    "    csv_emp = csv.reader(emp, delimiter=',')\n",
    "    engine.execute(\n",
    "        employees.insert(),\n",
    "        [{\"emp_no\": row[0], \"emp_title_id\": row[1],\n",
    "         \"birth_date\": row[2], \"first_name\": row[3],\n",
    "         \"last_name\": row[4], \"sex\": row[5],\n",
    "         \"hire_date\": row[6]} for row in csv_emp]\n",
    "    )\n"
   ]
  },
  {
   "cell_type": "code",
   "execution_count": null,
   "metadata": {},
   "outputs": [],
   "source": [
    "# Print full table metadata for employees table\n",
    "print(repr(metadata.tables['employees']))"
   ]
  },
  {
   "cell_type": "code",
   "execution_count": null,
   "metadata": {},
   "outputs": [],
   "source": [
    "#can also use c instead of columns\n",
    "employees.c.keys()"
   ]
  },
  {
   "cell_type": "markdown",
   "metadata": {},
   "source": [
    "# Querying\n"
   ]
  },
  {
   "cell_type": "markdown",
   "metadata": {},
   "source": [
    "### 1. To list employee number, last name, first name, sex, and salary"
   ]
  },
  {
   "cell_type": "code",
   "execution_count": null,
   "metadata": {},
   "outputs": [],
   "source": [
    "### sql\n",
    "sql_1= '''SELECT e.emp_no, e.last_name, e.first_name, e.sex, s.salary \n",
    "       FROM employees AS e\n",
    "       JOIN salaries AS s\n",
    "       ON e.emp_no=s.emp_no'''"
   ]
  },
  {
   "cell_type": "code",
   "execution_count": null,
   "metadata": {},
   "outputs": [],
   "source": [
    "#using text\n",
    "results_1=connection.execute(db.text(sql_1)).fetchall()\n",
    "df_1 = pd.DataFrame(results_1, columns=(['Emp_No', 'Last_Name', \n",
    "                                         \"First_Name\",'Sex','Salary']))\n",
    "df_1\n"
   ]
  },
  {
   "cell_type": "code",
   "execution_count": null,
   "metadata": {},
   "outputs": [],
   "source": [
    "#using sql_alchemy\n",
    "res_1=connection.execute(db.select([employees.c.emp_no,\n",
    "                                   employees.c.last_name,\n",
    "                                   employees.c.first_name,\n",
    "                                   employees.c.sex,\n",
    "                                   salaries.c.salary])\n",
    "                         .join(salaries, employees.c.emp_no==salaries.c.emp_no)\n",
    "                         ).fetchall()\n",
    "df_alc1 = pd.DataFrame(res_1, columns=(['Emp_No', 'Last_Name', \n",
    "                                         \"First_Name\",'Sex','Salary']))\n",
    "df_alc1"
   ]
  },
  {
   "cell_type": "markdown",
   "metadata": {},
   "source": [
    "### 2. To list first name, last name, and hire date for employees who were hired in 1986."
   ]
  },
  {
   "cell_type": "code",
   "execution_count": null,
   "metadata": {},
   "outputs": [],
   "source": [
    "sql_2='''SELECT first_name, last_name, hire_date\n",
    "        FROM employees\n",
    "        WHERE hire_date BETWEEN '1986-01-01' AND '1986-12-31' '''\n"
   ]
  },
  {
   "cell_type": "code",
   "execution_count": null,
   "metadata": {},
   "outputs": [],
   "source": [
    "#using text\n",
    "results_2=connection.execute(db.text(sql_2)).fetchall()\n",
    "df_2 = pd.DataFrame(results_2, columns=(['first_name', 'last_name', 'hire_date']))\n",
    "df_2"
   ]
  },
  {
   "cell_type": "code",
   "execution_count": null,
   "metadata": {},
   "outputs": [],
   "source": [
    "#using sqlalchemy\n",
    "res_2=connection.execute(db.select([employees.c.first_name,\n",
    "                                   employees.c.last_name,\n",
    "                                   employees.c.hire_date])\n",
    "                        .where(employees.c.hire_date.between('1986-01-01','1986-12-31'))\n",
    "                        ).fetchall()\n",
    "df_alc2 = pd.DataFrame(res_2, columns=(['first_name', 'last_name', 'hire_date']))\n",
    "df_alc2"
   ]
  },
  {
   "cell_type": "markdown",
   "metadata": {},
   "source": [
    "### 3. To list the manager of each department with the following information: department number, department name, the manager's employee number, last name, first name."
   ]
  },
  {
   "cell_type": "code",
   "execution_count": null,
   "metadata": {},
   "outputs": [],
   "source": [
    "sql_3='''SELECT  d.dept_no, d.dept_name, e.emp_no, e.last_name, e.first_name \n",
    "        FROM departments AS d\n",
    "        JOIN dept_manager AS dm\n",
    "        ON d.dept_no=dm.dept_no\n",
    "        JOIN employees AS e\n",
    "        ON dm.emp_no=e.emp_no'''"
   ]
  },
  {
   "cell_type": "code",
   "execution_count": null,
   "metadata": {},
   "outputs": [],
   "source": [
    "#using text\n",
    "results_3=connection.execute(db.text(sql_3)).fetchall()\n",
    "df_3 = pd.DataFrame(results_3, columns=(['dept_no', 'dept_name', \n",
    "                                         'emp_no', 'last_name', 'first_name']))\n",
    "df_3"
   ]
  },
  {
   "cell_type": "code",
   "execution_count": null,
   "metadata": {},
   "outputs": [],
   "source": [
    "#using sql_alchemy\n",
    "res_3=connection.execute(db.select([departments.c.dept_no,\n",
    "                                    departments.c.dept_name,\n",
    "                                    employees.c.emp_no,\n",
    "                                   employees.c.last_name,\n",
    "                                   employees.c.first_name])\n",
    "                         .join(dept_manager, departments.c.dept_no==dept_manager.c.dept_no)\n",
    "                         .join(employees, dept_manager.c.emp_no==employees.c.emp_no)\n",
    "                         ).fetchall()\n",
    "df_alc3 = pd.DataFrame(res_3, columns=(['dept_no', 'dept_name', \n",
    "                                         'emp_no', 'last_name', 'first_name']))\n",
    "df_alc3"
   ]
  },
  {
   "cell_type": "markdown",
   "metadata": {},
   "source": [
    "### 4. To list the department of each employee with the following information: employee number, last name, first name, and department name."
   ]
  },
  {
   "cell_type": "code",
   "execution_count": null,
   "metadata": {},
   "outputs": [],
   "source": [
    "sql_4='''SELECT e.emp_no, e.last_name, e.first_name, d.dept_name\n",
    "        FROM employees AS e\n",
    "        JOIN dept_emp AS de\n",
    "        ON e.emp_no=de.emp_no\n",
    "        JOIN departments AS d\n",
    "        on de.dept_no=d.dept_no'''"
   ]
  },
  {
   "cell_type": "code",
   "execution_count": null,
   "metadata": {},
   "outputs": [],
   "source": [
    "#using text\n",
    "results_4=connection.execute(db.text(sql_4)).fetchall()\n",
    "df_4 = pd.DataFrame(results_4, columns=(['emp_no', 'last_name', \n",
    "                                         'first_name', 'dept_name']))\n",
    "df_4"
   ]
  },
  {
   "cell_type": "code",
   "execution_count": null,
   "metadata": {},
   "outputs": [],
   "source": [
    "#using sql_alchemy\n",
    "res_4=connection.execute(db.select([employees.c.emp_no,\n",
    "                                   employees.c.last_name,\n",
    "                                   employees.c.first_name,\n",
    "                                   departments.c.dept_name])\n",
    "                         .join(dept_emp, employees.c.emp_no==dept_emp.c.emp_no)\n",
    "                         .join(departments, dept_emp.c.dept_no==departments.c.dept_no)\n",
    "                         ).fetchall()\n",
    "df_alc4 = pd.DataFrame(res_4, columns=(['emp_no', 'last_name', \n",
    "                                         'first_name', 'dept_name']))\n",
    "df_alc4"
   ]
  },
  {
   "cell_type": "markdown",
   "metadata": {},
   "source": [
    "### 5. To list first name, last name, and sex for employees whose first name is \"Hercules\" and last names begin with \"B.\""
   ]
  },
  {
   "cell_type": "code",
   "execution_count": null,
   "metadata": {},
   "outputs": [],
   "source": [
    "sql_5='''SELECT first_name, last_name, sex\n",
    "        FROM employees\n",
    "        WHERE first_name='Hercules' AND last_name LIKE'B%' '''"
   ]
  },
  {
   "cell_type": "code",
   "execution_count": null,
   "metadata": {},
   "outputs": [],
   "source": [
    "#using text\n",
    "results_5=connection.execute(db.text(sql_5)).fetchall()\n",
    "df_5 = pd.DataFrame(results_5, columns=(['first_name', 'last_name', 'sex']))\n",
    "df_5"
   ]
  },
  {
   "cell_type": "code",
   "execution_count": null,
   "metadata": {},
   "outputs": [],
   "source": [
    "#using sqlalchemy \n",
    "res_5=connection.execute(db.select([employees.c.first_name,\n",
    "                                    employees.c.last_name, employees.c.sex])\n",
    "                        .where(db.and_(employees.c.first_name=='Hercules', \n",
    "                                           employees.c.last_name.like('B%')))\n",
    "                        ).fetchall()\n",
    "df_alc5 = pd.DataFrame(res_5, columns=(['first_name', 'last_name', 'sex']))\n",
    "df_alc5"
   ]
  },
  {
   "cell_type": "markdown",
   "metadata": {},
   "source": [
    "### 6. To list all employees in the Sales department, including their employee number, last name, first name, and department name."
   ]
  },
  {
   "cell_type": "code",
   "execution_count": null,
   "metadata": {},
   "outputs": [],
   "source": [
    "sql_6='''SELECT e.emp_no, e.last_name, e.first_name, e.sex, d.dept_name\n",
    "        FROM employees AS e\n",
    "        JOIN dept_emp AS de\n",
    "        ON e.emp_no=de.emp_no\n",
    "        JOIN departments AS d\n",
    "        ON de.dept_no=d.dept_no\n",
    "        WHERE d.dept_name='Sales' '''"
   ]
  },
  {
   "cell_type": "code",
   "execution_count": null,
   "metadata": {},
   "outputs": [],
   "source": [
    "#using text\n",
    "results_6=connection.execute(db.text(sql_6)).fetchall()\n",
    "df_6 = pd.DataFrame(results_6, columns=(['emp_no', 'last_name', \n",
    "                                         'first_name','sex','dept_name']))\n",
    "df_6"
   ]
  },
  {
   "cell_type": "code",
   "execution_count": null,
   "metadata": {},
   "outputs": [],
   "source": [
    "#using sql_alchemy\n",
    "res_6=connection.execute(db.select([employees.c.emp_no,\n",
    "                                   employees.c.last_name,\n",
    "                                   employees.c.first_name,\n",
    "                                   employees.c.sex,\n",
    "                                   departments.c.dept_name])\n",
    "                         .join(dept_emp, employees.c.emp_no==dept_emp.c.emp_no)\n",
    "                         .join(departments, dept_emp.c.dept_no==departments.c.dept_no)\n",
    "                         .where(departments.c.dept_name=='Sales')\n",
    "                         ).fetchall()\n",
    "df_alc6 = pd.DataFrame(res_6, columns=(['emp_no', 'last_name', \n",
    "                                         'first_name','sex','dept_name']))\n",
    "df_alc6"
   ]
  },
  {
   "cell_type": "markdown",
   "metadata": {},
   "source": [
    "### 7. To list all employees in the Sales and Development departments, including their employee number, last name, first name, and department name."
   ]
  },
  {
   "cell_type": "code",
   "execution_count": null,
   "metadata": {},
   "outputs": [],
   "source": [
    "sql_7='''SELECT e.emp_no, e.last_name, e.first_name, e.sex, d.dept_name\n",
    "        FROM employees AS e\n",
    "        JOIN dept_emp AS de\n",
    "        ON e.emp_no=de.emp_no\n",
    "        JOIN departments AS d\n",
    "        ON de.dept_no=d.dept_no\n",
    "        WHERE d.dept_name='Sales' OR d.dept_name='Development' '''"
   ]
  },
  {
   "cell_type": "code",
   "execution_count": null,
   "metadata": {},
   "outputs": [],
   "source": [
    "#using text\n",
    "results_7=connection.execute(db.text(sql_7)).fetchall()\n",
    "df_7 = pd.DataFrame(results_7, columns=(['emp_no', 'last_name', \n",
    "                                         'first_name','sex','dept_name']))\n",
    "df_7"
   ]
  },
  {
   "cell_type": "code",
   "execution_count": null,
   "metadata": {},
   "outputs": [],
   "source": [
    "#using sql_alchemy\n",
    "res_7=connection.execute(db.select([employees.c.emp_no,\n",
    "                                   employees.c.last_name,\n",
    "                                   employees.c.first_name,\n",
    "                                   employees.c.sex,\n",
    "                                   departments.c.dept_name])\n",
    "                         .join(dept_emp, employees.c.emp_no==dept_emp.c.emp_no)\n",
    "                         .join(departments, dept_emp.c.dept_no==departments.c.dept_no)\n",
    "                         .where(db.or_(departments.c.dept_name=='Sales', \n",
    "                                      departments.c.dept_name=='Development'))\n",
    "                         ).fetchall()\n",
    "df_alc7 = pd.DataFrame(res_7, columns=(['emp_no', 'last_name', \n",
    "                                         'first_name','sex','dept_name']))\n",
    "df_alc7"
   ]
  },
  {
   "cell_type": "markdown",
   "metadata": {},
   "source": [
    "### 8. To list the frequency count of employee last names, i.e., how many employees share each last name in descending order"
   ]
  },
  {
   "cell_type": "code",
   "execution_count": null,
   "metadata": {},
   "outputs": [],
   "source": [
    "sql_8='''SELECT last_name, COUNT(last_name) AS count\n",
    "        FROM employees\n",
    "        GROUP BY last_name\n",
    "        ORDER BY count DESC'''"
   ]
  },
  {
   "cell_type": "code",
   "execution_count": null,
   "metadata": {},
   "outputs": [],
   "source": [
    "#using text\n",
    "results_8=connection.execute(db.text(sql_8)).fetchall()\n",
    "df_8 = pd.DataFrame(results_8, columns=(['last_name','count']))\n",
    "df_8"
   ]
  },
  {
   "cell_type": "code",
   "execution_count": null,
   "metadata": {},
   "outputs": [],
   "source": [
    "#using sqlalchemy \n",
    "res_8=connection.execute(db.select([employees.c.last_name,\n",
    "                                    db.func.count(employees.c.last_name)])\n",
    "                        .group_by(employees.c.last_name)\n",
    "                        .order_by(db.desc(db.func.count(employees.c.last_name)))\n",
    "                        ).fetchall()\n",
    "df_alc8 = pd.DataFrame(res_8, columns=(['last_name','count']))\n",
    "df_alc8"
   ]
  },
  {
   "cell_type": "markdown",
   "metadata": {},
   "source": [
    "# Plotting"
   ]
  },
  {
   "cell_type": "code",
   "execution_count": null,
   "metadata": {},
   "outputs": [],
   "source": [
    "#histogram to visualize the most common salary ranges for employees.\n",
    "fig, ax=plt.subplots(figsize=(12,12))\n",
    "df_1['Salary'].plot(kind='hist', color='r',ax=ax)\n",
    "ax.set(xlabel='Salary($)', title='Salary range for employees')\n",
    "plt.show()"
   ]
  },
  {
   "cell_type": "code",
   "execution_count": null,
   "metadata": {},
   "outputs": [],
   "source": [
    "#histogram to visualize the most common salary ranges for employees\n",
    "fig, ax=plt.subplots(figsize=(12,12))\n",
    "sns.histplot(x='Salary', data=df_1,kde=True,hue=\"Sex\", ax=ax)\n",
    "ax.set(xlabel='Salary($)', title='Salary range for employees')\n",
    "plt.show()"
   ]
  },
  {
   "cell_type": "markdown",
   "metadata": {},
   "source": [
    "### Most common lastname"
   ]
  },
  {
   "cell_type": "code",
   "execution_count": null,
   "metadata": {},
   "outputs": [],
   "source": [
    "most_common_lastname=df_8.nlargest(20, 'count')\n",
    "fig, ax=plt.subplots(figsize=(15,15))\n",
    "sns.barplot(x='last_name', y='count',\n",
    "            data=most_common_lastname, alpha=0.9,ax=ax)\n",
    "ax.set_xticklabels(ax.get_xticklabels(), rotation=45)\n",
    "plt.show()"
   ]
  },
  {
   "cell_type": "markdown",
   "metadata": {},
   "source": [
    "### Bar chart of average salary by title."
   ]
  },
  {
   "cell_type": "code",
   "execution_count": null,
   "metadata": {},
   "outputs": [],
   "source": [
    "#Create a bar chart of average salary by title.\n",
    "sql_9='''SELECT e.emp_no, e.last_name, e.first_name, t.title, s.salary\n",
    "        FROM employees AS e\n",
    "        JOIN salaries AS s\n",
    "        ON e.emp_no=s.emp_no\n",
    "        JOIN titles AS t\n",
    "        ON e.emp_title_id=t.title_id'''\n",
    "results_9=connection.execute(db.text(sql_9)).fetchall()\n",
    "df_9 = pd.DataFrame(results_9, columns=(['emp_no','last_name',\n",
    "                                         'first_name', 'title', 'salary']))\n",
    "df_9"
   ]
  },
  {
   "cell_type": "code",
   "execution_count": null,
   "metadata": {},
   "outputs": [],
   "source": [
    "fig, ax=plt.subplots(figsize=(15,15))\n",
    "sns.barplot(x='title', y='salary',\n",
    "            data=df_9, alpha=0.9,ax=ax)\n",
    "ax.set_xticklabels(ax.get_xticklabels(), rotation=45)\n",
    "plt.show()"
   ]
  },
  {
   "cell_type": "markdown",
   "metadata": {},
   "source": [
    "## Bar and pie plots for Departments"
   ]
  },
  {
   "cell_type": "code",
   "execution_count": null,
   "metadata": {},
   "outputs": [],
   "source": [
    "dep=pd.DataFrame(df_4.groupby('dept_name')['emp_no'].count())\n",
    "dep.columns=['Total employees']"
   ]
  },
  {
   "cell_type": "code",
   "execution_count": null,
   "metadata": {},
   "outputs": [],
   "source": [
    "fig,ax=plt.subplots(figsize=(12,12))\n",
    "dep.plot(kind='bar', color='r',ax=ax)\n",
    "ax.set(xlabel='Departments', ylabel='Count')\n",
    "ax.legend()\n",
    "plt.show()"
   ]
  },
  {
   "cell_type": "code",
   "execution_count": null,
   "metadata": {},
   "outputs": [],
   "source": [
    "plt.style.use('ggplot')\n",
    "fig,ax=plt.subplots(figsize=(12,12))\n",
    "dep.plot(kind='pie', y='Total employees',autopct='%1.0f%%', ax=ax)\n",
    "plt.show()"
   ]
  },
  {
   "cell_type": "code",
   "execution_count": null,
   "metadata": {},
   "outputs": [],
   "source": []
  }
 ],
 "metadata": {
  "kernelspec": {
   "display_name": "Python 3 (ipykernel)",
   "language": "python",
   "name": "python3"
  },
  "language_info": {
   "codemirror_mode": {
    "name": "ipython",
    "version": 3
   },
   "file_extension": ".py",
   "mimetype": "text/x-python",
   "name": "python",
   "nbconvert_exporter": "python",
   "pygments_lexer": "ipython3",
   "version": "3.8.10"
  },
  "metadata": {
   "interpreter": {
    "hash": "082e9a3bcad0a290d0001e938aa60b99250c6c2ef33a923c00b70f9826caf4b7"
   }
  }
 },
 "nbformat": 4,
 "nbformat_minor": 4
}
